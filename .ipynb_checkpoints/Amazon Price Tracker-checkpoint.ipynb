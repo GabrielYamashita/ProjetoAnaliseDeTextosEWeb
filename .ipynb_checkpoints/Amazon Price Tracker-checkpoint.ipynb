{
 "cells": [
  {
   "cell_type": "markdown",
   "id": "e110deef",
   "metadata": {},
   "source": [
    "# Projeto Final Análise de Texto de Fontes Desestruturadas e Web"
   ]
  },
  {
   "cell_type": "markdown",
   "id": "65a3a6c4",
   "metadata": {},
   "source": [
    "## Integrantes:\n",
    "\n",
    "- Gabriel Yamashita\n",
    "- Fábio Gerevini Canton\n",
    "- Pedro Carneiro\n",
    "- Stéfani Colello"
   ]
  },
  {
   "cell_type": "markdown",
   "id": "0e4ac24e",
   "metadata": {},
   "source": [
    "## Introdução \n",
    "\n",
    "Nos dias atuais, a tecnologia tem transformado a maneira como consumidores e empresas lidam com compras e vendas. Desta forma, o presente trabalho visa construir um tracker de preços do site da Amazon (https://www.amazon.com/), para que o consumidor possa acompanhar quando o preço diminuir. Este sistema automatizado serve para coletar e analisar mudanças nos preços de produtos, permitindo que consumidores e empresas tomem decisões mais acertivas. \n",
    "\n",
    "Neste projeto iremos extrair os dados de preço dos celulares Samsung Galaxy S24 Ultra e Iphone 15 Pro Max, visando, além de poder visualizar os preços, comparar como diferentes produtos da mesma categoria se comportam."
   ]
  },
  {
   "cell_type": "markdown",
   "id": "2a70372a",
   "metadata": {},
   "source": [
    "## Descrição do Problema\n",
    "\n",
    "A variação de preços é uma realidade no mercado de bens de consumo. Produtos podem sofrer mudanças de preço devido a promoções, sazonalidade, flutuações de demanda, entre outros fatores. Para consumidores, a procura pelo menor preço pode ser exaustiva e demorada. Para empresas, entender a dinâmica dos preços concorrentes é crucial para estratégias de pricing e competitividade. O problema, portanto, reside na necessidade de um sistema eficiente que monitore os preços de produtos no site (https://www.amazon.com.br/) e que notifique automaticamente, através de um link, quando um preço mais baixo é encontrado."
   ]
  },
  {
   "cell_type": "markdown",
   "id": "b35fece1",
   "metadata": {},
   "source": [
    "#### O primeiro passo é importar a bibliotecas necessarias para a análise."
   ]
  },
  {
   "cell_type": "code",
   "execution_count": 1,
   "id": "8ba5087d-d63f-4845-b6c0-a7703af40c09",
   "metadata": {},
   "outputs": [],
   "source": [
    "import os\n",
    "import time\n",
    "import pandas as pd\n",
    "import matplotlib.pyplot as plt\n",
    "\n",
    "# Bibliotecas para Web Scrapping\n",
    "from bs4 import BeautifulSoup\n",
    "from selenium import webdriver\n",
    "from selenium.webdriver.chrome.service import Service\n",
    "from webdriver_manager.chrome import ChromeDriverManager\n",
    "from selenium.webdriver.common.by import By\n",
    "\n",
    "# Biblioteca para Envio de Mensagem no Whatsapp\n",
    "import pywhatkit as wpp"
   ]
  },
  {
   "cell_type": "markdown",
   "id": "19923668",
   "metadata": {},
   "source": [
    "### Configurações de Pesquisa do Produto:"
   ]
  },
  {
   "cell_type": "code",
   "execution_count": 2,
   "id": "0aa97b58",
   "metadata": {},
   "outputs": [],
   "source": [
    "CEP = '05611010'\n",
    "myPhoneNumber = '+5511991982436'\n",
    "\n",
    "minPrice = '0'\n",
    "maxPrice = ''\n",
    "wantedPrice = 8_000\n",
    "\n",
    "searchTime = 12 # em horas"
   ]
  },
  {
   "cell_type": "markdown",
   "id": "6d8acdb7",
   "metadata": {},
   "source": [
    "### Iniciando Webdriver do Chrome"
   ]
  },
  {
   "cell_type": "code",
   "execution_count": 3,
   "id": "c3b312d0-73be-4aec-8fa9-97abf4f06af3",
   "metadata": {},
   "outputs": [],
   "source": [
    "# Pega Perfil de Navagação do Chrome\n",
    "path = '/'.join(os.getcwd().split('\\\\')[:3])\n",
    "CHROME_PROFILE_PATH = f'{path}/AppData/Local/Google/Chrome/User Data/WebScrapping/Projeto'\n",
    "\n",
    "# Carrega Perfil no Webdriver\n",
    "options = webdriver.ChromeOptions()\n",
    "options.add_argument(CHROME_PROFILE_PATH)\n",
    "\n",
    "# Inicia Webdriver\n",
    "wd = webdriver.Chrome(service=Service(ChromeDriverManager().install()), options=options)"
   ]
  },
  {
   "cell_type": "code",
   "execution_count": 4,
   "id": "1bd3acc6-09fe-426a-aa7f-43c33f04becf",
   "metadata": {},
   "outputs": [],
   "source": [
    "wd.implicitly_wait(15)"
   ]
  },
  {
   "cell_type": "markdown",
   "id": "91c2c8fb",
   "metadata": {},
   "source": [
    "### Atualiza para Endereço de Compra:"
   ]
  },
  {
   "cell_type": "code",
   "execution_count": 5,
   "id": "2acb6c0b-7ecc-4b33-ad61-e6b878421a72",
   "metadata": {
    "tags": []
   },
   "outputs": [],
   "source": [
    "# Abre Amazon\n",
    "wd.get(\"https://amazon.com.br\")\n",
    "time.sleep(5)\n",
    "\n",
    "# Procura por 'Escolha sua localização'\n",
    "wd.find_element(By.ID, \"nav-global-location-popover-link\").click()\n",
    "\n",
    "# Separa CEP \n",
    "CEP1 = CEP[:-3]\n",
    "CEP2 = CEP[-3:]\n",
    "\n",
    "# Preenche Primeira Parte do CEP\n",
    "cep1_field = wd.find_element(By.ID, \"GLUXZipUpdateInput_0\")\n",
    "cep1_field.send_keys(CEP1)\n",
    "time.sleep(2)\n",
    "\n",
    "# Preenche Segunda Parte do CEP\n",
    "cep2_field = wd.find_element(By.ID, \"GLUXZipUpdateInput_1\")\n",
    "cep2_field.send_keys(CEP2)\n",
    "time.sleep(2)\n",
    "\n",
    "# Confirma CEP\n",
    "confirm_element = wd.find_element(By.XPATH, '//*[@id=\"GLUXZipUpdate\"]/span/input')\n",
    "confirm_element.click()"
   ]
  },
  {
   "cell_type": "markdown",
   "id": "5f4efa83",
   "metadata": {},
   "source": [
    "### Cria Dataframe com Nome do Produto, Patrocínio, Preço e URL:"
   ]
  },
  {
   "cell_type": "code",
   "execution_count": 6,
   "id": "af69f360-aac2-4147-ac7b-83298bd15cef",
   "metadata": {},
   "outputs": [],
   "source": [
    "def getPandaDfForSearchResults(searchResultsPage):\n",
    "    rows=[]\n",
    "    for result in searchResultsPage:\n",
    "        title = result.find(\"span\", {\"class\": \"a-text-normal\"}) # título do produto\n",
    "        sponsored = result.find(\"span\", {\"class\": \"a-color-base\"}, string=\"Sponsored\") # patrocínio do produto\n",
    "        price = result.find(\"span\", {\"class\": \"a-price-whole\"}) # preço do produto\n",
    "        url = result.find(\"a\", {\"class\": \"a-link-normal\"}) # url do produto\n",
    "        \n",
    "        if price:\n",
    "            # Cria Linha do Dataframe\n",
    "            row = [title.text, bool(sponsored), price.text, \"https://amazon.com.br/\" + url['href']]\n",
    "            rows.append(row)\n",
    "    \n",
    "    # Cria Dataframe e Retorna\n",
    "    df = pd.DataFrame.from_records(rows, columns=[\"Title\", \"Sponsored\", \"Price\", \"URL\"])\n",
    "    \n",
    "    return df\n"
   ]
  },
  {
   "cell_type": "markdown",
   "id": "61b684e0",
   "metadata": {},
   "source": [
    "###  Procura por Informações nas Páginas do Produto:"
   ]
  },
  {
   "cell_type": "code",
   "execution_count": 7,
   "id": "afa35449-d7f2-4424-9883-e876c7d893a0",
   "metadata": {},
   "outputs": [],
   "source": [
    "def getSearchResultsForPage(url):\n",
    "    wd.get(url) # abre link de procura\n",
    "    \n",
    "    nextPageCssClasses = [] # lista para checar próxima página\n",
    "    nextPageLink = wd.find_element(By.CLASS_NAME, \"s-pagination-next\") # procura por botão de próxima página\n",
    "\n",
    "    df_all_search_results = pd.DataFrame(columns=[\"Title\", \"Sponsored\", \"Price\"]) # cria dataframes de resultados\n",
    "    \n",
    "    # Procura pelo Botão Desabilitado de Próxima Página\n",
    "    while not \"s-pagination-disabled\" in nextPageCssClasses:\n",
    "        # Puxa as Informações da Página\n",
    "        soup = BeautifulSoup(wd.page_source)\n",
    "        searchResultsPage = soup.findAll(\"div\", {\"data-component-type\": \"s-search-result\"})\n",
    "        df = getPandaDfForSearchResults(searchResultsPage)\n",
    "        \n",
    "        # Junta o Dataframe da Página com o Geral\n",
    "        toConcat = [df for df in [df_all_search_results, df] if not df.empty]\n",
    "        df_all_search_results = pd.concat(toConcat, ignore_index=True)\n",
    "\n",
    "        # Vai para a Próxima Página\n",
    "        nextPageLink.click()\n",
    "        nextPageLink = wd.find_element(By.CLASS_NAME, \"s-pagination-next\")\n",
    "        nextPageCssClasses = nextPageLink.get_attribute(\"class\").split()\n",
    "        time.sleep(2)\n",
    "    \n",
    "    # Termina Loop\n",
    "    if \"s-pagination-disabled\" in nextPageCssClasses:\n",
    "        print(\"Reached last page of search results\")\n",
    "    \n",
    "    # Tratando Preços\n",
    "    df_all_search_results['Price'] = df_all_search_results['Price'].str.replace(\",\",\"\")\n",
    "    df_all_search_results['Price'] = df_all_search_results['Price'].str.replace(\".\",\"\")\n",
    "    df_all_search_results['Price'] = df_all_search_results['Price'].astype(float)\n",
    "    \n",
    "    return df_all_search_results    \n",
    "                      "
   ]
  },
  {
   "cell_type": "markdown",
   "id": "b897f035",
   "metadata": {},
   "source": [
    "### Função para Mandar Mensagem no Whatsapp:"
   ]
  },
  {
   "cell_type": "code",
   "execution_count": 8,
   "id": "a95ea8c6",
   "metadata": {},
   "outputs": [],
   "source": [
    "def sendWhatsAppMessage(df):\n",
    "    # Itera no Dataframe\n",
    "    for index, graphicsCardRow in df.iterrows():\n",
    "        # Acessa Link do Produto\n",
    "        wd.get(graphicsCardRow.URL)\n",
    "        # print(graphicsCardRow.URL)\n",
    "        \n",
    "        # Checa Existência da Pasta e Cria\n",
    "        if not os.path.exists(f'./Screenshot'):\n",
    "            os.mkdir(f'./Screenshot')\n",
    "        \n",
    "        # Salva Screenshot da Página para Envio\n",
    "        screenshotFilepath = f\"./Screenshot/screenshot_{index}.png\"\n",
    "        wd.save_screenshot(screenshotFilepath)\n",
    "        \n",
    "        # Envia Mensagem no Whatsapp\n",
    "        wpp.sendwhats_image(myPhoneNumber, screenshotFilepath, graphicsCardRow.URL, tab_close=True)\n"
   ]
  },
  {
   "cell_type": "markdown",
   "id": "452253de",
   "metadata": {},
   "source": [
    "### Envio de Mensagens e Raspagem de Dados, Focado de um Preço Desejado:"
   ]
  },
  {
   "cell_type": "code",
   "execution_count": null,
   "id": "c809bbdd",
   "metadata": {},
   "outputs": [],
   "source": [
    "while True:\n",
    "    # Procura por Produto\n",
    "    df = getSearchResultsForPage(f\"https://www.amazon.com.br/s?k=galaxy+s24&__mk_pt_BR=%C3%85M%C3%85%C5%BD%C3%95%C3%91&crid=3KKL3MYHATJNK&qid=1717368500&rnid=16245552011&sprefix=galaxy+s2%2Caps%2C389&ref=sr_nr_p_36_0_0&low-price={minPrice}&high-price={maxPrice}\")\n",
    "    \n",
    "    # Filtra Produtos Encontrados, por Palavra e Preço\n",
    "    df_query = df[(df.Title.str.contains(\"Ultra\")) & (df.Price <= wantedPrice)]\n",
    "    \n",
    "    # Manda Mensagem dos Produtos Encontrados\n",
    "    if (not df_query.empty):\n",
    "        print(\"Found products that I want to buy\")\n",
    "        sendWhatsAppMessage(df_query)\n",
    "        break\n",
    "        \n",
    "    else:\n",
    "        # Espera por Tempo Desejado para Próxima Consulta\n",
    "        time.sleep(searchTime * 60 * 60)\n",
    "    "
   ]
  },
  {
   "cell_type": "markdown",
   "id": "73d494cc",
   "metadata": {},
   "source": [
    "---"
   ]
  },
  {
   "cell_type": "markdown",
   "id": "906dfcae",
   "metadata": {},
   "source": [
    "## Search \"Galaxy S24 Ultra\":"
   ]
  },
  {
   "cell_type": "code",
   "execution_count": 9,
   "id": "bb74fe43-64f4-4119-af12-56d57b039fb2",
   "metadata": {
    "scrolled": false
   },
   "outputs": [
    {
     "name": "stdout",
     "output_type": "stream",
     "text": [
      "Reached last page of search results\n"
     ]
    },
    {
     "data": {
      "text/html": [
       "<div>\n",
       "<style scoped>\n",
       "    .dataframe tbody tr th:only-of-type {\n",
       "        vertical-align: middle;\n",
       "    }\n",
       "\n",
       "    .dataframe tbody tr th {\n",
       "        vertical-align: top;\n",
       "    }\n",
       "\n",
       "    .dataframe thead th {\n",
       "        text-align: right;\n",
       "    }\n",
       "</style>\n",
       "<table border=\"1\" class=\"dataframe\">\n",
       "  <thead>\n",
       "    <tr style=\"text-align: right;\">\n",
       "      <th></th>\n",
       "      <th>Title</th>\n",
       "      <th>Sponsored</th>\n",
       "      <th>Price</th>\n",
       "      <th>URL</th>\n",
       "    </tr>\n",
       "  </thead>\n",
       "  <tbody>\n",
       "    <tr>\n",
       "      <th>0</th>\n",
       "      <td>Smartphone Samsung Galaxy S24, Galaxy AI, Self...</td>\n",
       "      <td>False</td>\n",
       "      <td>5699.0</td>\n",
       "      <td>https://amazon.com.br//Smartphone-Samsung-Gala...</td>\n",
       "    </tr>\n",
       "    <tr>\n",
       "      <th>1</th>\n",
       "      <td>Smartphone Samsung Galaxy S24 Ultra, Galaxy AI...</td>\n",
       "      <td>False</td>\n",
       "      <td>8620.0</td>\n",
       "      <td>https://amazon.com.br//Smartphone-Samsung-Gala...</td>\n",
       "    </tr>\n",
       "    <tr>\n",
       "      <th>2</th>\n",
       "      <td>Smartphone Samsung Galaxy S24 Ultra, Galaxy AI...</td>\n",
       "      <td>False</td>\n",
       "      <td>7899.0</td>\n",
       "      <td>https://amazon.com.br//Smartphone-Samsung-Gala...</td>\n",
       "    </tr>\n",
       "    <tr>\n",
       "      <th>3</th>\n",
       "      <td>Smartphone Samsung Galaxy S24+, Galaxy AI, Sel...</td>\n",
       "      <td>False</td>\n",
       "      <td>6649.0</td>\n",
       "      <td>https://amazon.com.br//Smartphone-Samsung-Gala...</td>\n",
       "    </tr>\n",
       "    <tr>\n",
       "      <th>4</th>\n",
       "      <td>Smartphone Samsung Galaxy S24 Ultra, Galaxy AI...</td>\n",
       "      <td>False</td>\n",
       "      <td>7562.0</td>\n",
       "      <td>https://amazon.com.br//Smartphone-Samsung-Gala...</td>\n",
       "    </tr>\n",
       "    <tr>\n",
       "      <th>5</th>\n",
       "      <td>Smartphone Samsung Galaxy S24 Ultra, Galaxy AI...</td>\n",
       "      <td>False</td>\n",
       "      <td>7698.0</td>\n",
       "      <td>https://amazon.com.br//Smartphone-Samsung-Gala...</td>\n",
       "    </tr>\n",
       "    <tr>\n",
       "      <th>6</th>\n",
       "      <td>Smartphone Samsung Galaxy S24 Ultra, Galaxy AI...</td>\n",
       "      <td>False</td>\n",
       "      <td>8057.0</td>\n",
       "      <td>https://amazon.com.br//Smartphone-Samsung-Gala...</td>\n",
       "    </tr>\n",
       "    <tr>\n",
       "      <th>7</th>\n",
       "      <td>Samsung Galaxy S24 5G SM-S921B Dual Sim 128 GB...</td>\n",
       "      <td>False</td>\n",
       "      <td>5694.0</td>\n",
       "      <td>https://amazon.com.br//Samsung-Galaxy-SM-S921B...</td>\n",
       "    </tr>\n",
       "    <tr>\n",
       "      <th>8</th>\n",
       "      <td>Smartphone Samsung Galaxy S24+, Galaxy AI, Sel...</td>\n",
       "      <td>False</td>\n",
       "      <td>7270.0</td>\n",
       "      <td>https://amazon.com.br//Smartphone-Samsung-Gala...</td>\n",
       "    </tr>\n",
       "    <tr>\n",
       "      <th>9</th>\n",
       "      <td>Smartphone Samsung Galaxy S24 Ultra, Galaxy AI...</td>\n",
       "      <td>False</td>\n",
       "      <td>9999.0</td>\n",
       "      <td>https://amazon.com.br//Smartphone-Samsung-Qu%C...</td>\n",
       "    </tr>\n",
       "  </tbody>\n",
       "</table>\n",
       "</div>"
      ],
      "text/plain": [
       "                                               Title  Sponsored   Price  \\\n",
       "0  Smartphone Samsung Galaxy S24, Galaxy AI, Self...      False  5699.0   \n",
       "1  Smartphone Samsung Galaxy S24 Ultra, Galaxy AI...      False  8620.0   \n",
       "2  Smartphone Samsung Galaxy S24 Ultra, Galaxy AI...      False  7899.0   \n",
       "3  Smartphone Samsung Galaxy S24+, Galaxy AI, Sel...      False  6649.0   \n",
       "4  Smartphone Samsung Galaxy S24 Ultra, Galaxy AI...      False  7562.0   \n",
       "5  Smartphone Samsung Galaxy S24 Ultra, Galaxy AI...      False  7698.0   \n",
       "6  Smartphone Samsung Galaxy S24 Ultra, Galaxy AI...      False  8057.0   \n",
       "7  Samsung Galaxy S24 5G SM-S921B Dual Sim 128 GB...      False  5694.0   \n",
       "8  Smartphone Samsung Galaxy S24+, Galaxy AI, Sel...      False  7270.0   \n",
       "9  Smartphone Samsung Galaxy S24 Ultra, Galaxy AI...      False  9999.0   \n",
       "\n",
       "                                                 URL  \n",
       "0  https://amazon.com.br//Smartphone-Samsung-Gala...  \n",
       "1  https://amazon.com.br//Smartphone-Samsung-Gala...  \n",
       "2  https://amazon.com.br//Smartphone-Samsung-Gala...  \n",
       "3  https://amazon.com.br//Smartphone-Samsung-Gala...  \n",
       "4  https://amazon.com.br//Smartphone-Samsung-Gala...  \n",
       "5  https://amazon.com.br//Smartphone-Samsung-Gala...  \n",
       "6  https://amazon.com.br//Smartphone-Samsung-Gala...  \n",
       "7  https://amazon.com.br//Samsung-Galaxy-SM-S921B...  \n",
       "8  https://amazon.com.br//Smartphone-Samsung-Gala...  \n",
       "9  https://amazon.com.br//Smartphone-Samsung-Qu%C...  "
      ]
     },
     "execution_count": 9,
     "metadata": {},
     "output_type": "execute_result"
    }
   ],
   "source": [
    "search_S24 = getSearchResultsForPage(f\"https://www.amazon.com.br/s?k=galaxy+s24&__mk_pt_BR=%C3%85M%C3%85%C5%BD%C3%95%C3%91&crid=3KKL3MYHATJNK&qid=1717368500&rnid=16245552011&sprefix=galaxy+s2%2Caps%2C389&ref=sr_nr_p_36_0_0&low-price={minPrice}&high-price={maxPrice}\")\n",
    "search_S24.head(10)"
   ]
  },
  {
   "cell_type": "code",
   "execution_count": 10,
   "id": "5c5391a7",
   "metadata": {},
   "outputs": [],
   "source": [
    "if not os.path.exists(f'./Dataframes'):\n",
    "        os.mkdir(f'./Dataframes')\n",
    "\n",
    "search_S24.to_excel(\"./Dataframes/S24.xlsx\", index=False)"
   ]
  },
  {
   "cell_type": "markdown",
   "id": "2f9e54ff",
   "metadata": {},
   "source": [
    "## Search \"Iphone 15 Pro Max\":"
   ]
  },
  {
   "cell_type": "code",
   "execution_count": 11,
   "id": "3cfb516a-6017-49e1-a07c-71fd507e38ab",
   "metadata": {
    "scrolled": false
   },
   "outputs": [
    {
     "name": "stdout",
     "output_type": "stream",
     "text": [
      "Reached last page of search results\n"
     ]
    },
    {
     "data": {
      "text/html": [
       "<div>\n",
       "<style scoped>\n",
       "    .dataframe tbody tr th:only-of-type {\n",
       "        vertical-align: middle;\n",
       "    }\n",
       "\n",
       "    .dataframe tbody tr th {\n",
       "        vertical-align: top;\n",
       "    }\n",
       "\n",
       "    .dataframe thead th {\n",
       "        text-align: right;\n",
       "    }\n",
       "</style>\n",
       "<table border=\"1\" class=\"dataframe\">\n",
       "  <thead>\n",
       "    <tr style=\"text-align: right;\">\n",
       "      <th></th>\n",
       "      <th>Title</th>\n",
       "      <th>Sponsored</th>\n",
       "      <th>Price</th>\n",
       "      <th>URL</th>\n",
       "    </tr>\n",
       "  </thead>\n",
       "  <tbody>\n",
       "    <tr>\n",
       "      <th>0</th>\n",
       "      <td>Apple iPhone 15 Pro Max (256 GB) — Titânio nat...</td>\n",
       "      <td>False</td>\n",
       "      <td>7899.0</td>\n",
       "      <td>https://amazon.com.br//sspa/click?ie=UTF8&amp;spc=...</td>\n",
       "    </tr>\n",
       "    <tr>\n",
       "      <th>1</th>\n",
       "      <td>Apple iPhone 15 Pro (512 GB) — Titânio branco</td>\n",
       "      <td>False</td>\n",
       "      <td>8999.0</td>\n",
       "      <td>https://amazon.com.br//sspa/click?ie=UTF8&amp;spc=...</td>\n",
       "    </tr>\n",
       "    <tr>\n",
       "      <th>2</th>\n",
       "      <td>Apple iPhone 15 Pro Max (256 GB) — Titânio Azul</td>\n",
       "      <td>False</td>\n",
       "      <td>9958.0</td>\n",
       "      <td>https://amazon.com.br//Apple-iPhone-Pro-Max-25...</td>\n",
       "    </tr>\n",
       "    <tr>\n",
       "      <th>3</th>\n",
       "      <td>Apple iPhone 15 Pro (128) — Titânio natural</td>\n",
       "      <td>False</td>\n",
       "      <td>6967.0</td>\n",
       "      <td>https://amazon.com.br//Apple-iPhone-15-Pro-128...</td>\n",
       "    </tr>\n",
       "    <tr>\n",
       "      <th>4</th>\n",
       "      <td>Apple iPhone 15 (128 GB) — Preto</td>\n",
       "      <td>False</td>\n",
       "      <td>4848.0</td>\n",
       "      <td>https://amazon.com.br//Apple-iPhone-15-128-GB/...</td>\n",
       "    </tr>\n",
       "    <tr>\n",
       "      <th>5</th>\n",
       "      <td>Apple iPhone 14 (128 GB) – Estelar</td>\n",
       "      <td>False</td>\n",
       "      <td>3869.0</td>\n",
       "      <td>https://amazon.com.br//Apple-iPhone-14-128-GB/...</td>\n",
       "    </tr>\n",
       "    <tr>\n",
       "      <th>6</th>\n",
       "      <td>ESR Capa para iPhone 15 Pro Max, compatível co...</td>\n",
       "      <td>False</td>\n",
       "      <td>198.0</td>\n",
       "      <td>https://amazon.com.br//ESR-compat%C3%ADvel-res...</td>\n",
       "    </tr>\n",
       "    <tr>\n",
       "      <th>7</th>\n",
       "      <td>Apple iPhone 13 (128 GB) - Meia-noite</td>\n",
       "      <td>False</td>\n",
       "      <td>3598.0</td>\n",
       "      <td>https://amazon.com.br//Apple-iPhone-13-128-GB-...</td>\n",
       "    </tr>\n",
       "    <tr>\n",
       "      <th>8</th>\n",
       "      <td>Apple iPhone 15 Plus (256 GB) — Rosa</td>\n",
       "      <td>False</td>\n",
       "      <td>9099.0</td>\n",
       "      <td>https://amazon.com.br//Apple-iPhone-15-Plus-25...</td>\n",
       "    </tr>\n",
       "    <tr>\n",
       "      <th>9</th>\n",
       "      <td>Apple iPhone 11 (64 GB) Preto</td>\n",
       "      <td>False</td>\n",
       "      <td>2789.0</td>\n",
       "      <td>https://amazon.com.br//Iphone-Apple-Preto-64gb...</td>\n",
       "    </tr>\n",
       "  </tbody>\n",
       "</table>\n",
       "</div>"
      ],
      "text/plain": [
       "                                               Title  Sponsored   Price  \\\n",
       "0  Apple iPhone 15 Pro Max (256 GB) — Titânio nat...      False  7899.0   \n",
       "1      Apple iPhone 15 Pro (512 GB) — Titânio branco      False  8999.0   \n",
       "2    Apple iPhone 15 Pro Max (256 GB) — Titânio Azul      False  9958.0   \n",
       "3        Apple iPhone 15 Pro (128) — Titânio natural      False  6967.0   \n",
       "4                   Apple iPhone 15 (128 GB) — Preto      False  4848.0   \n",
       "5                 Apple iPhone 14 (128 GB) – Estelar      False  3869.0   \n",
       "6  ESR Capa para iPhone 15 Pro Max, compatível co...      False   198.0   \n",
       "7              Apple iPhone 13 (128 GB) - Meia-noite      False  3598.0   \n",
       "8               Apple iPhone 15 Plus (256 GB) — Rosa      False  9099.0   \n",
       "9                      Apple iPhone 11 (64 GB) Preto      False  2789.0   \n",
       "\n",
       "                                                 URL  \n",
       "0  https://amazon.com.br//sspa/click?ie=UTF8&spc=...  \n",
       "1  https://amazon.com.br//sspa/click?ie=UTF8&spc=...  \n",
       "2  https://amazon.com.br//Apple-iPhone-Pro-Max-25...  \n",
       "3  https://amazon.com.br//Apple-iPhone-15-Pro-128...  \n",
       "4  https://amazon.com.br//Apple-iPhone-15-128-GB/...  \n",
       "5  https://amazon.com.br//Apple-iPhone-14-128-GB/...  \n",
       "6  https://amazon.com.br//ESR-compat%C3%ADvel-res...  \n",
       "7  https://amazon.com.br//Apple-iPhone-13-128-GB-...  \n",
       "8  https://amazon.com.br//Apple-iPhone-15-Plus-25...  \n",
       "9  https://amazon.com.br//Iphone-Apple-Preto-64gb...  "
      ]
     },
     "execution_count": 11,
     "metadata": {},
     "output_type": "execute_result"
    }
   ],
   "source": [
    "search_iphone_15 = getSearchResultsForPage(f\"https://www.amazon.com.br/s?k=Iphone+15+pro+max&__mk_pt_BR=%C3%85M%C3%85%C5%BD%C3%95%C3%91&crid=3H2LQPQLRB3PL&qid=1717369579&rnid=16245552011&sprefix=iphone+15+pro+ma%2Caps%2C256&ref=sr_nr_p_36_0_0&low-price={minPrice}&high-price={maxPrice}\")\n",
    "search_iphone_15.head(10)"
   ]
  },
  {
   "cell_type": "code",
   "execution_count": 12,
   "id": "b78eb89d",
   "metadata": {},
   "outputs": [],
   "source": [
    "if not os.path.exists(f'./Dataframes'):\n",
    "        os.mkdir(f'./Dataframes')\n",
    "\n",
    "search_iphone_15.to_excel(\"./Dataframes/Iphone15_ProMax.xlsx\", index=False)"
   ]
  },
  {
   "cell_type": "markdown",
   "id": "d63c9f27",
   "metadata": {},
   "source": [
    "---"
   ]
  },
  {
   "cell_type": "markdown",
   "id": "a8743aee",
   "metadata": {},
   "source": [
    "## Análise:"
   ]
  },
  {
   "cell_type": "code",
   "execution_count": 13,
   "id": "33a40ce5",
   "metadata": {},
   "outputs": [
    {
     "data": {
      "text/plain": [
       "(              Price\n",
       " count    167.000000\n",
       " mean    1376.520958\n",
       " std     2282.722138\n",
       " min       15.000000\n",
       " 25%      104.000000\n",
       " 50%      189.000000\n",
       " 75%     1594.000000\n",
       " max    10939.000000,\n",
       "               Price\n",
       " count    109.000000\n",
       " mean    1559.577982\n",
       " std     2799.575405\n",
       " min       12.000000\n",
       " 25%       99.000000\n",
       " 50%      199.000000\n",
       " 75%     1165.000000\n",
       " max    10499.000000)"
      ]
     },
     "execution_count": 13,
     "metadata": {},
     "output_type": "execute_result"
    }
   ],
   "source": [
    "S24_describe = search_S24.describe()\n",
    "iphone_describe = search_iphone_15.describe()\n",
    "\n",
    "S24_describe, iphone_describe"
   ]
  },
  {
   "cell_type": "markdown",
   "id": "3f3a447a",
   "metadata": {},
   "source": [
    "### Ao analisar o describe acima, algumas informações e ressalvas podem ser feitas:\n",
    "**Média**: Ao analisar a média dos preços do Samsung Galaxy S24 Ultra e Iphone 15 Pro Max podemos perceber que o samsung possui produtos com valores mais baixos.\n",
    "\n",
    "**Desvio Padrão**: Em relação ao desvio padrão, percebemos que o Iphone 15 Pro Max possui uma maior discrepância nos preços de seus produtos, podendo ser devido a uma menor quantidade de dados quando em comparação ao celular samsung.\n",
    "\n",
    "**Quartis**: Ao se observar os quartis da busca dos dois celulares é possivel inferir que o celular samsung possui uma maior quantidade de produtos com valores mais baixos quando em comparação com o Iphone 15 Pro Max"
   ]
  },
  {
   "cell_type": "code",
   "execution_count": 14,
   "id": "6ebbe301",
   "metadata": {},
   "outputs": [
    {
     "data": {
      "image/png": "[encoded data removed]",
      "text/plain": [
       "<Figure size 1200x600 with 2 Axes>"
      ]
     },
     "metadata": {},
     "output_type": "display_data"
    }
   ],
   "source": [
    "plt.figure(figsize=(12, 6))\n",
    "\n",
    "plt.subplot(1, 2, 1)\n",
    "plt.hist(search_S24['Price'], bins=10, alpha=0.7, color='blue')\n",
    "plt.title('Distribuição dos Preços do Samsung Galaxy S24 Ultra')\n",
    "plt.xlabel('Preço')\n",
    "plt.ylabel('Frequência')\n",
    "\n",
    "plt.subplot(1, 2, 2)\n",
    "plt.boxplot(search_S24['Price'], vert=False)\n",
    "plt.title('Boxplot dos Preços do Samsung Galaxy S24 Ultra')\n",
    "plt.xlabel('Preço')\n",
    "\n",
    "plt.tight_layout()\n",
    "plt.show()"
   ]
  },
  {
   "cell_type": "markdown",
   "id": "2936d27f",
   "metadata": {},
   "source": [
    "Pode-se perceber nos dois gráficos uma grande concentração de dados em valores mais baixos, com pequena variação entre os valores centrais e uma grande quantidade de outliers. Isso se da por, no momento da extração dos dados com o input \"Samsung Galaxy S24 Ultra\", recebermos dados de produtos que não são celulares, mas sim acessórios, que detém valores muito inferiores em relação ao aparelho procurado."
   ]
  },
  {
   "cell_type": "code",
   "execution_count": 15,
   "id": "5f057806",
   "metadata": {},
   "outputs": [
    {
     "data": {
      "image/png": "[encoded data removed]",
      "text/plain": [
       "<Figure size 1200x600 with 2 Axes>"
      ]
     },
     "metadata": {},
     "output_type": "display_data"
    }
   ],
   "source": [
    "plt.figure(figsize=(12, 6))\n",
    "\n",
    "plt.subplot(1, 2, 1)\n",
    "plt.hist(search_iphone_15['Price'], bins=10, alpha=0.7, color='blue')\n",
    "plt.title('Distribuição dos Preços do Iphone 15 Pro Max')\n",
    "plt.xlabel('Preço')\n",
    "plt.ylabel('Frequência')\n",
    "\n",
    "plt.subplot(1, 2, 2)\n",
    "plt.boxplot(search_iphone_15['Price'], vert=False)\n",
    "plt.title('Boxplot dos Preços do Iphone 15 Pro Max')\n",
    "plt.xlabel('Preço')\n",
    "\n",
    "plt.tight_layout()\n",
    "plt.show()"
   ]
  },
  {
   "cell_type": "markdown",
   "id": "3771390d",
   "metadata": {},
   "source": [
    "Os gráficos para a análise de dispersão de dados do Iphone 15 Pro Max é parecida com os gráficos do Samsung Galaxy S24 Ultra. Possui uma grande concentração de dados em valores mais baixos, com baixa variação entre os dados centrais com um elevado número de outliers. Isso se da novamente por, quando realizada a extração com o input \"Iphone 15 Prox Max\", recebermos também dados de acessórios para o celular, não somente do aparelho."
   ]
  },
  {
   "cell_type": "code",
   "execution_count": 16,
   "id": "15eab8de",
   "metadata": {},
   "outputs": [
    {
     "data": {
      "image/png": "[encoded data removed]",
      "text/plain": [
       "<Figure size 1200x600 with 1 Axes>"
      ]
     },
     "metadata": {},
     "output_type": "display_data"
    }
   ],
   "source": [
    "plt.figure(figsize=(12, 6))\n",
    "plt.hist(search_S24['Price'], bins=20, alpha=0.5, label='Samsung Galaxy S24 Ultra')\n",
    "plt.hist(search_iphone_15['Price'], bins=20, alpha=0.5, label='iPhone 15 Pro Max')\n",
    "plt.xlabel('Preço')\n",
    "plt.ylabel('Frequência')\n",
    "plt.title('Comparação de Preços entre Samsung Galaxy S24 Ultra e iPhone 15 Pro Max')\n",
    "plt.legend(loc='upper right')\n",
    "plt.show()"
   ]
  },
  {
   "cell_type": "markdown",
   "id": "919b97fe",
   "metadata": {},
   "source": [
    "Quando realizado um histograma dos preços da busca pelos celulares, pode-se perceber que eles tem compartamentos muito parecidos, com uma grande quantidade de dados com valores inferiores devido a aparição de acessórios para o produto, e poucos dados com valores elevados, que representam os celulares de fato."
   ]
  },
  {
   "cell_type": "code",
   "execution_count": 17,
   "id": "5611dc36",
   "metadata": {
    "scrolled": true
   },
   "outputs": [
    {
     "data": {
      "text/html": [
       "<div>\n",
       "<style scoped>\n",
       "    .dataframe tbody tr th:only-of-type {\n",
       "        vertical-align: middle;\n",
       "    }\n",
       "\n",
       "    .dataframe tbody tr th {\n",
       "        vertical-align: top;\n",
       "    }\n",
       "\n",
       "    .dataframe thead th {\n",
       "        text-align: right;\n",
       "    }\n",
       "</style>\n",
       "<table border=\"1\" class=\"dataframe\">\n",
       "  <thead>\n",
       "    <tr style=\"text-align: right;\">\n",
       "      <th></th>\n",
       "      <th>Title</th>\n",
       "      <th>Sponsored</th>\n",
       "      <th>Price</th>\n",
       "      <th>URL</th>\n",
       "    </tr>\n",
       "  </thead>\n",
       "  <tbody>\n",
       "    <tr>\n",
       "      <th>44</th>\n",
       "      <td>Smartphone Samsung Galaxy S24 Ultra, Galaxy AI...</td>\n",
       "      <td>False</td>\n",
       "      <td>10939.0</td>\n",
       "      <td>https://amazon.com.br//Smartphone-Samsung-Qu%C...</td>\n",
       "    </tr>\n",
       "    <tr>\n",
       "      <th>9</th>\n",
       "      <td>Smartphone Samsung Galaxy S24 Ultra, Galaxy AI...</td>\n",
       "      <td>False</td>\n",
       "      <td>9999.0</td>\n",
       "      <td>https://amazon.com.br//Smartphone-Samsung-Qu%C...</td>\n",
       "    </tr>\n",
       "    <tr>\n",
       "      <th>1</th>\n",
       "      <td>Smartphone Samsung Galaxy S24 Ultra, Galaxy AI...</td>\n",
       "      <td>False</td>\n",
       "      <td>8620.0</td>\n",
       "      <td>https://amazon.com.br//Smartphone-Samsung-Gala...</td>\n",
       "    </tr>\n",
       "    <tr>\n",
       "      <th>6</th>\n",
       "      <td>Smartphone Samsung Galaxy S24 Ultra, Galaxy AI...</td>\n",
       "      <td>False</td>\n",
       "      <td>8057.0</td>\n",
       "      <td>https://amazon.com.br//Smartphone-Samsung-Gala...</td>\n",
       "    </tr>\n",
       "    <tr>\n",
       "      <th>2</th>\n",
       "      <td>Smartphone Samsung Galaxy S24 Ultra, Galaxy AI...</td>\n",
       "      <td>False</td>\n",
       "      <td>7899.0</td>\n",
       "      <td>https://amazon.com.br//Smartphone-Samsung-Gala...</td>\n",
       "    </tr>\n",
       "  </tbody>\n",
       "</table>\n",
       "</div>"
      ],
      "text/plain": [
       "                                                Title  Sponsored    Price  \\\n",
       "44  Smartphone Samsung Galaxy S24 Ultra, Galaxy AI...      False  10939.0   \n",
       "9   Smartphone Samsung Galaxy S24 Ultra, Galaxy AI...      False   9999.0   \n",
       "1   Smartphone Samsung Galaxy S24 Ultra, Galaxy AI...      False   8620.0   \n",
       "6   Smartphone Samsung Galaxy S24 Ultra, Galaxy AI...      False   8057.0   \n",
       "2   Smartphone Samsung Galaxy S24 Ultra, Galaxy AI...      False   7899.0   \n",
       "\n",
       "                                                  URL  \n",
       "44  https://amazon.com.br//Smartphone-Samsung-Qu%C...  \n",
       "9   https://amazon.com.br//Smartphone-Samsung-Qu%C...  \n",
       "1   https://amazon.com.br//Smartphone-Samsung-Gala...  \n",
       "6   https://amazon.com.br//Smartphone-Samsung-Gala...  \n",
       "2   https://amazon.com.br//Smartphone-Samsung-Gala...  "
      ]
     },
     "execution_count": 17,
     "metadata": {},
     "output_type": "execute_result"
    }
   ],
   "source": [
    "top_5_expensive_S24 = search_S24.nlargest(5, 'Price')\n",
    "top_5_expensive_S24"
   ]
  },
  {
   "cell_type": "code",
   "execution_count": 18,
   "id": "24d94652",
   "metadata": {},
   "outputs": [
    {
     "data": {
      "text/html": [
       "<div>\n",
       "<style scoped>\n",
       "    .dataframe tbody tr th:only-of-type {\n",
       "        vertical-align: middle;\n",
       "    }\n",
       "\n",
       "    .dataframe tbody tr th {\n",
       "        vertical-align: top;\n",
       "    }\n",
       "\n",
       "    .dataframe thead th {\n",
       "        text-align: right;\n",
       "    }\n",
       "</style>\n",
       "<table border=\"1\" class=\"dataframe\">\n",
       "  <thead>\n",
       "    <tr style=\"text-align: right;\">\n",
       "      <th></th>\n",
       "      <th>Title</th>\n",
       "      <th>Sponsored</th>\n",
       "      <th>Price</th>\n",
       "      <th>URL</th>\n",
       "    </tr>\n",
       "  </thead>\n",
       "  <tbody>\n",
       "    <tr>\n",
       "      <th>25</th>\n",
       "      <td>Apple iPhone 13 Pro (256 GB) - Azul Sierra</td>\n",
       "      <td>False</td>\n",
       "      <td>10499.0</td>\n",
       "      <td>https://amazon.com.br//Apple-iPhone-Pro-256-GB...</td>\n",
       "    </tr>\n",
       "    <tr>\n",
       "      <th>31</th>\n",
       "      <td>Apple iPhone 14 Pro Max (128 GB) – Dourado</td>\n",
       "      <td>False</td>\n",
       "      <td>10499.0</td>\n",
       "      <td>https://amazon.com.br//Apple-iPhone-Pro-Max-12...</td>\n",
       "    </tr>\n",
       "    <tr>\n",
       "      <th>2</th>\n",
       "      <td>Apple iPhone 15 Pro Max (256 GB) — Titânio Azul</td>\n",
       "      <td>False</td>\n",
       "      <td>9958.0</td>\n",
       "      <td>https://amazon.com.br//Apple-iPhone-Pro-Max-25...</td>\n",
       "    </tr>\n",
       "    <tr>\n",
       "      <th>16</th>\n",
       "      <td>Apple iPhone 13 Pro Max (128 GB) - Verde-alpino</td>\n",
       "      <td>False</td>\n",
       "      <td>9939.0</td>\n",
       "      <td>https://amazon.com.br//Apple-iPhone-Pro-Max-12...</td>\n",
       "    </tr>\n",
       "    <tr>\n",
       "      <th>20</th>\n",
       "      <td>Apple iPhone 14 (256 GB) – Estelar</td>\n",
       "      <td>False</td>\n",
       "      <td>9199.0</td>\n",
       "      <td>https://amazon.com.br//Apple-iPhone-14-256-GB/...</td>\n",
       "    </tr>\n",
       "  </tbody>\n",
       "</table>\n",
       "</div>"
      ],
      "text/plain": [
       "                                              Title  Sponsored    Price  \\\n",
       "25       Apple iPhone 13 Pro (256 GB) - Azul Sierra      False  10499.0   \n",
       "31       Apple iPhone 14 Pro Max (128 GB) – Dourado      False  10499.0   \n",
       "2   Apple iPhone 15 Pro Max (256 GB) — Titânio Azul      False   9958.0   \n",
       "16  Apple iPhone 13 Pro Max (128 GB) - Verde-alpino      False   9939.0   \n",
       "20               Apple iPhone 14 (256 GB) – Estelar      False   9199.0   \n",
       "\n",
       "                                                  URL  \n",
       "25  https://amazon.com.br//Apple-iPhone-Pro-256-GB...  \n",
       "31  https://amazon.com.br//Apple-iPhone-Pro-Max-12...  \n",
       "2   https://amazon.com.br//Apple-iPhone-Pro-Max-25...  \n",
       "16  https://amazon.com.br//Apple-iPhone-Pro-Max-12...  \n",
       "20  https://amazon.com.br//Apple-iPhone-14-256-GB/...  "
      ]
     },
     "execution_count": 18,
     "metadata": {},
     "output_type": "execute_result"
    }
   ],
   "source": [
    "top_5_expensive_iphone_15 = search_iphone_15.nlargest(5, 'Price')\n",
    "top_5_expensive_iphone_15"
   ]
  },
  {
   "cell_type": "markdown",
   "id": "db170151",
   "metadata": {},
   "source": [
    "Na comparação dos maiores preços por produto buscado, onde econtramos os aparelhos celulares de fato, entedemos que eles se encontram na mesma categoria por possuirem valores muito parecidos."
   ]
  },
  {
   "cell_type": "code",
   "execution_count": 19,
   "id": "6c3dfc0b",
   "metadata": {},
   "outputs": [
    {
     "data": {
      "image/png": "[encoded data removed]",
      "text/plain": [
       "<Figure size 1400x700 with 2 Axes>"
      ]
     },
     "metadata": {},
     "output_type": "display_data"
    },
    {
     "data": {
      "text/plain": [
       "(Price\n",
       " 0-1000        110\n",
       " 1000-2000      24\n",
       " 2000-3000       8\n",
       " 3000-4000       3\n",
       " 4000-5000       6\n",
       " 5000-6000       4\n",
       " 6000-7000       2\n",
       " 7000-8000       6\n",
       " 8000-9000       2\n",
       " 9000-10000      1\n",
       " 10000+          1\n",
       " Name: count, dtype: int64,\n",
       " Price\n",
       " 0-1000        81\n",
       " 1000-2000      5\n",
       " 2000-3000      2\n",
       " 3000-4000      6\n",
       " 4000-5000      2\n",
       " 5000-6000      2\n",
       " 6000-7000      2\n",
       " 7000-8000      1\n",
       " 8000-9000      2\n",
       " 9000-10000     4\n",
       " 10000+         2\n",
       " Name: count, dtype: int64)"
      ]
     },
     "execution_count": 19,
     "metadata": {},
     "output_type": "execute_result"
    }
   ],
   "source": [
    "bins = [0, 1000, 2000, 3000, 4000, 5000, 6000, 7000, 8000, 9000, 10000, float('inf')]\n",
    "labels = ['0-1000', '1000-2000', '2000-3000', '3000-4000', '4000-5000', '5000-6000', '6000-7000', '7000-8000', '8000-9000', '9000-10000', '10000+']\n",
    "\n",
    "galaxy_price_groups = pd.cut(search_S24['Price'], bins=bins, labels=labels, right=False)\n",
    "iphone_price_groups = pd.cut(search_iphone_15['Price'], bins=bins, labels=labels, right=False)\n",
    "\n",
    "galaxy_price_counts = galaxy_price_groups.value_counts().sort_index()\n",
    "iphone_price_counts = iphone_price_groups.value_counts().sort_index()\n",
    "\n",
    "plt.figure(figsize=(14, 7))\n",
    "\n",
    "plt.subplot(1, 2, 1)\n",
    "galaxy_price_counts.plot(kind='bar', color='blue')\n",
    "plt.title('Distribuição dos Preços do Samsung Galaxy S24 Ultra por Faixas')\n",
    "plt.xlabel('Faixas de Preço (R$)')\n",
    "plt.ylabel('Frequência')\n",
    "\n",
    "plt.subplot(1, 2, 2)\n",
    "iphone_price_counts.plot(kind='bar', color='green')\n",
    "plt.title('Distribuição dos Preços do iPhone 15 Pro Max por Faixas')\n",
    "plt.xlabel('Faixas de Preço (R$)')\n",
    "plt.ylabel('Frequência')\n",
    "\n",
    "plt.tight_layout()\n",
    "plt.show()\n",
    "\n",
    "galaxy_price_counts, iphone_price_counts\n"
   ]
  },
  {
   "cell_type": "markdown",
   "id": "19084cf8",
   "metadata": {},
   "source": [
    "Ao separar os produtos por faixa de preço percebemos novamente a grande quantidade de dados com valores baixos para ambas as buscas devido a aparição de acessórios para celulares que apareçem na extração."
   ]
  },
  {
   "cell_type": "markdown",
   "id": "8909260e",
   "metadata": {},
   "source": [
    "## Conclusão:"
   ]
  },
  {
   "cell_type": "markdown",
   "id": "f4d41ae3",
   "metadata": {},
   "source": [
    "A implementação de um tracker de preços não só beneficia consumidores, proporcionando economia e eficiência, como também oferece às empresas uma ferramenta poderosa para análise de mercado e ajuste de estratégias. A metodologia descrita mostra-se eficaz para a coleta, análise e notificação de preços, promovendo uma maior transparência e competitividade no mercado. Esta análise preliminar destaca a necessidade e os benefícios de um sistema automatizado de monitoramento de preços, incentivando a adoção de tecnologias que proporcionem eficiência e competitividade no mercado de consumo.\n",
    "Além disso, com a análise dos preços encontrados, podemos inferir que os preços dos celulares (utilizando a premissa de que são  aqueles com valores acima de 4000 reais) possuem comportamentos parecidos, visto que são da mesma categoria. Ademais, os outliers encontrados são devido à existência de acessórios para ambos os produtos. "
   ]
  },
  {
   "cell_type": "markdown",
   "id": "68d03211",
   "metadata": {},
   "source": [
    "---"
   ]
  }
 ],
 "metadata": {
  "kernelspec": {
   "display_name": "Python 3 (ipykernel)",
   "language": "python",
   "name": "python3"
  },
  "language_info": {
   "codemirror_mode": {
    "name": "ipython",
    "version": 3
   },
   "file_extension": ".py",
   "mimetype": "text/x-python",
   "name": "python",
   "nbconvert_exporter": "python",
   "pygments_lexer": "ipython3",
   "version": "3.10.11"
  }
 },
 "nbformat": 4,
 "nbformat_minor": 5
}
