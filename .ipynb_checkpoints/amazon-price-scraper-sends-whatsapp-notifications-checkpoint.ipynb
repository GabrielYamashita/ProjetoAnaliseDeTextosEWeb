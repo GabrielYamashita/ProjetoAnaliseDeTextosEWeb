{
 "cells": [
  {
   "cell_type": "markdown",
   "id": "cd7239bd",
   "metadata": {},
   "source": [
    "# Projeto Análise de Textos de Fontes Desestruturas e Web"
   ]
  },
  {
   "cell_type": "markdown",
   "id": "3bd0f657",
   "metadata": {},
   "source": [
    "### Importando Bibliotecas:"
   ]
  },
  {
   "cell_type": "code",
   "execution_count": 1,
   "id": "d71d4f60",
   "metadata": {},
   "outputs": [],
   "source": [
    "import os\n",
    "import time\n",
    "import pandas as pd\n",
    "\n",
    "from selenium import webdriver\n",
    "from selenium.webdriver.chrome.service import Service\n",
    "from webdriver_manager.chrome import ChromeDriverManager\n",
    "from selenium.webdriver.common.by import By"
   ]
  },
  {
   "cell_type": "markdown",
   "id": "e7b94093",
   "metadata": {},
   "source": [
    "### Configuração:"
   ]
  },
  {
   "cell_type": "code",
   "execution_count": 2,
   "id": "ebb91d8e",
   "metadata": {},
   "outputs": [],
   "source": [
    "my_phone_number=\"+5511991982436\"\n",
    "CHROME_PROFILE_PATH = \"user-data-dir=C:\\\\Users\\\\gabri\\\\AppData\\\\Local\\\\Google\\\\Chrome\\\\User Data\\\\WebScrapping\\\\Projeto\""
   ]
  },
  {
   "cell_type": "code",
   "execution_count": 3,
   "id": "c3b312d0-73be-4aec-8fa9-97abf4f06af3",
   "metadata": {},
   "outputs": [],
   "source": [
    "options = webdriver.ChromeOptions()\n",
    "options.add_argument(CHROME_PROFILE_PATH)\n",
    "\n",
    "wd = webdriver.Chrome(service=Service(ChromeDriverManager().install()), options=options)"
   ]
  },
  {
   "cell_type": "markdown",
   "id": "c0611c6c",
   "metadata": {},
   "source": [
    "### Setup de Localização de Entrega:\n",
    "Executar somente uma vez, a localização será guardada nos cookies da sessão."
   ]
  },
  {
   "cell_type": "code",
   "execution_count": 5,
   "id": "2acb6c0b-7ecc-4b33-ad61-e6b878421a72",
   "metadata": {
    "tags": []
   },
   "outputs": [],
   "source": [
    "wd.get(\"https://amazon.com\")\n",
    "\n",
    "import time\n",
    "time.sleep(5)\n",
    "\n",
    "wd.find_element(By.ID, \"nav-global-location-popover-link\").click()\n",
    "time.sleep(2)\n",
    "postcode_field = wd.find_element(By.ID, \"GLUXZipUpdateInput\")\n",
    "postcode_field.send_keys(\"80021\")\n",
    "time.sleep(2)\n",
    "wd.find_element(By.ID, \"GLUXZipUpdate\").click()\n",
    "close_element = wd.find_element(By.XPATH, '//*[@id=\"a-popover-1\"]/div/div[2]/span/span/span/button')\n",
    "close_element.click()"
   ]
  },
  {
   "cell_type": "markdown",
   "id": "f8702320",
   "metadata": {},
   "source": [
    "### Web Scrapping da Amazon:"
   ]
  },
  {
   "cell_type": "code",
   "execution_count": null,
   "id": "f65c79a6-34bb-43f4-8a07-222487802679",
   "metadata": {},
   "outputs": [],
   "source": [
    "wd.get(\"https://www.amazon.com/s?k=rtx+3080+ti&i=computers&bbn=284822&rh=n%3A284822%2Cp_n_feature_twenty-one_browse-bin%3A21563385011%2Cp_n_feature_twenty_browse-bin%3A23572110011&dc&qid=1630186292&rnid=2661599011&ref=sr_nr_p_n_availability_2\")"
   ]
  },
  {
   "cell_type": "code",
   "execution_count": null,
   "id": "15eaac41-f891-4714-a095-da6e5739f36b",
   "metadata": {},
   "outputs": [],
   "source": [
    "from bs4 import BeautifulSoup\n",
    "\n",
    "soup = BeautifulSoup(wd.page_source)\n",
    "\n",
    "results = soup.findAll(\"div\", {\"data-component-type\": \"s-search-result\"})\n",
    "for result in results:\n",
    "    title = result.find(\"span\", {\"class\": \"a-text-normal\"})\n",
    "    sponsored = result.find(\"span\", {\"class\": \"a-color-base\"}, string=\"Sponsored\")\n",
    "    price = result.find(\"span\", {\"class\": \"a-price-whole\"})\n",
    "    if not sponsored and price:\n",
    "        product = title.text\n",
    "        price = price.text\n",
    "        print(f'* {price} - {product}')\n"
   ]
  },
  {
   "cell_type": "code",
   "execution_count": null,
   "id": "af69f360-aac2-4147-ac7b-83298bd15cef",
   "metadata": {},
   "outputs": [],
   "source": [
    "def getPandaDfForSearchResults(searchResultsPage):\n",
    "    rows = []\n",
    "    for result in searchResultsPage:\n",
    "        title = result.find(\"span\", {\"class\": \"a-text-normal\"})\n",
    "        sponsored = result.find(\"span\", {\"class\": \"a-color-base\"}, string=\"Sponsored\")\n",
    "        price = result.find(\"span\", {\"class\": \"a-price-whole\"})\n",
    "        url = result.find(\"a\", {\"class\": \"a-link-normal\"})\n",
    "        if price:\n",
    "            row= [title.text, bool(sponsored), price.text, \"https://amazon.com/\" + url['href']]\n",
    "            rows.append(row)\n",
    "    \n",
    "    df = pd.DataFrame.from_records(rows, columns=[\"Title\", \"Sponsored\", \"Price\", \"URL\"])\n",
    "    return df"
   ]
  },
  {
   "cell_type": "code",
   "execution_count": null,
   "id": "afa35449-d7f2-4424-9883-e876c7d893a0",
   "metadata": {},
   "outputs": [],
   "source": [
    "def getSearchResultsForPage(url):\n",
    "    wd.get(url)\n",
    "    nextPageCssClasses=[]\n",
    "    nextPageLink = wd.find_element(By.CLASS_NAME, \"s-pagination-next\")\n",
    "\n",
    "\n",
    "    df_all_search_results = pd.DataFrame(columns=[\"Title\", \"Sponsored\", \"Price\"])\n",
    "    while not \"s-pagination-disabled\" in nextPageCssClasses:\n",
    "        soup = BeautifulSoup(wd.page_source)\n",
    "        searchResultsPage = soup.findAll(\"div\", {\"data-component-type\": \"s-search-result\"})\n",
    "        df = getPandaDfForSearchResults(searchResultsPage)\n",
    "        df_all_search_results = pd.concat([df_all_search_results, df])\n",
    "\n",
    "        # go to next page\n",
    "        nextPageLink.click()\n",
    "        nextPageLink = wd.find_element(By.CLASS_NAME, \"s-pagination-next\")\n",
    "        nextPageCssClasses = nextPageLink.get_attribute(\"class\").split()\n",
    "        time.sleep(2)\n",
    "\n",
    "    if \"s-pagination-disabled\" in nextPageCssClasses:\n",
    "        print(\"Reached last page of search results\")\n",
    "\n",
    "    df_all_search_results['Price'] = df_all_search_results['Price'].str.replace(\",\",\"\")\n",
    "    df_all_search_results['Price'] = df_all_search_results['Price'].astype(float)\n",
    "    return df_all_search_results    \n",
    "                            "
   ]
  },
  {
   "cell_type": "code",
   "execution_count": null,
   "id": "bb74fe43-64f4-4119-af12-56d57b039fb2",
   "metadata": {},
   "outputs": [],
   "source": [
    "getSearchResultsForPage(\"https://www.amazon.com/s?k=rtx+3080+ti&i=computers&bbn=284822&rh=n%3A284822%2Cp_n_feature_twenty-one_browse-bin%3A21563385011%2Cp_n_feature_twenty_browse-bin%3A23572110011&dc&qid=1630186292&rnid=2661599011&ref=sr_nr_p_n_availability_2\")"
   ]
  },
  {
   "cell_type": "code",
   "execution_count": null,
   "id": "4a1be5e1-6eca-42d9-9d24-b14f180262cd",
   "metadata": {},
   "outputs": [],
   "source": [
    "import pywhatkit as kit\n",
    "def sendWhatsAppMessage(df):\n",
    "    for index, graphicsCardRow in df.iterrows():\n",
    "        print(graphicsCardRow.URL)\n",
    "        wd.get(graphicsCardRow.URL)\n",
    "        screenshotFilepath=\"C:\\\\Users\\\\gabri\\\\Downloads\\\\screenshot_{index}.png\"\n",
    "        wd.save_screenshot(screenshotFilepath)\n",
    "        kit.sendwhats_image(my_phone_number, screenshotFilepath, graphicsCardRow.URL, tab_close=True)\n"
   ]
  },
  {
   "cell_type": "code",
   "execution_count": null,
   "id": "e542c71f-bc55-4578-9d9d-232ac06d46f2",
   "metadata": {
    "scrolled": false
   },
   "outputs": [],
   "source": [
    "while (True):\n",
    "    df = getSearchResultsForPage(\"https://www.amazon.com/s?k=rtx+3080+ti&i=computers&bbn=284822&rh=n%3A284822%2Cp_n_feature_twenty-one_browse-bin%3A21563385011%2Cp_n_feature_twenty_browse-bin%3A23572110011&dc&qid=1630186292&rnid=2661599011&ref=sr_nr_p_n_availability_2\")\n",
    "    \n",
    "    df_query = df[(df.Title.str.contains(\"3080 Ti\")) & (df.Price <= 2200)]\n",
    "    \n",
    "    if (not df_query.empty):\n",
    "        print(\"Found products that I want to buy\")\n",
    "        sendWhatsAppMessage(df_query)\n",
    "        print(df_query)\n",
    "        break\n",
    "    else:\n",
    "        time.sleep(60)\n",
    "    "
   ]
  },
  {
   "cell_type": "markdown",
   "id": "60941c98",
   "metadata": {},
   "source": [
    "### Análise de Dados"
   ]
  },
  {
   "cell_type": "code",
   "execution_count": null,
   "id": "9d09df67-a035-4e75-9da3-66855caa903c",
   "metadata": {},
   "outputs": [],
   "source": []
  },
  {
   "cell_type": "markdown",
   "id": "ee418c8a",
   "metadata": {},
   "source": [
    "---"
   ]
  }
 ],
 "metadata": {
  "kernelspec": {
   "display_name": "Python 3 (ipykernel)",
   "language": "python",
   "name": "python3"
  },
  "language_info": {
   "codemirror_mode": {
    "name": "ipython",
    "version": 3
   },
   "file_extension": ".py",
   "mimetype": "text/x-python",
   "name": "python",
   "nbconvert_exporter": "python",
   "pygments_lexer": "ipython3",
   "version": "3.10.11"
  }
 },
 "nbformat": 4,
 "nbformat_minor": 5
}
