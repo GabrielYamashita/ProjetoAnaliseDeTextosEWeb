{
 "cells": [
  {
   "cell_type": "code",
   "execution_count": 7,
   "id": "8ba5087d-d63f-4845-b6c0-a7703af40c09",
   "metadata": {},
   "outputs": [],
   "source": [
    "import os\n",
    "import time\n",
    "import pandas as pd\n",
    "import matplotlib.pyplot as plt\n",
    "\n",
    "from bs4 import BeautifulSoup\n",
    "from selenium import webdriver\n",
    "from selenium.webdriver.chrome.service import Service\n",
    "from selenium.webdriver.common.by import By\n",
    "\n",
    "from webdriver_manager.chrome import ChromeDriverManager"
   ]
  },
  {
   "cell_type": "code",
   "execution_count": 2,
   "id": "0aa97b58",
   "metadata": {},
   "outputs": [],
   "source": [
    "my_phone_number = '+5511991982436'"
   ]
  },
  {
   "cell_type": "code",
   "execution_count": 3,
   "id": "c3b312d0-73be-4aec-8fa9-97abf4f06af3",
   "metadata": {},
   "outputs": [],
   "source": [
    "wd = webdriver.Chrome()"
   ]
  },
  {
   "cell_type": "code",
   "execution_count": 4,
   "id": "1bd3acc6-09fe-426a-aa7f-43c33f04becf",
   "metadata": {},
   "outputs": [],
   "source": [
    "wd.implicitly_wait(10)"
   ]
  },
  {
   "cell_type": "code",
   "execution_count": 5,
   "id": "bc1e2f31-bc35-4761-9009-45c144a26bc1",
   "metadata": {},
   "outputs": [],
   "source": [
    "wd.get(\"https://amazon.com\")"
   ]
  },
  {
   "cell_type": "code",
   "execution_count": 6,
   "id": "2acb6c0b-7ecc-4b33-ad61-e6b878421a72",
   "metadata": {
    "tags": []
   },
   "outputs": [],
   "source": [
    "import time\n",
    "time.sleep(5)\n",
    "\n",
    "wd.find_element(By.ID, \"nav-global-location-popover-link\").click()\n",
    "postcode_field = wd.find_element(By.ID, \"GLUXZipUpdateInput\")\n",
    "postcode_field.send_keys(\"80021\")\n",
    "time.sleep(2)\n",
    "wd.find_element(By.ID, \"GLUXZipUpdate\").click()\n",
    "close_element = wd.find_element(By.XPATH, '//*[@id=\"a-popover-1\"]/div/div[2]/span/span/span/button')\n",
    "close_element.click()"
   ]
  },
  {
   "cell_type": "code",
   "execution_count": 45,
   "id": "f65c79a6-34bb-43f4-8a07-222487802679",
   "metadata": {},
   "outputs": [],
   "source": [
    "wd.get(\"https://www.amazon.com.br/s?k=galaxy+s24&__mk_pt_BR=%C3%85M%C3%85%C5%BD%C3%95%C3%91&crid=3KKL3MYHATJNK&sprefix=galaxy+s2%2Caps%2C389&ref=nb_sb_noss_2\")"
   ]
  },
  {
   "cell_type": "markdown",
   "id": "5f4efa83",
   "metadata": {},
   "source": [
    "## Def pra funçao maluca"
   ]
  },
  {
   "cell_type": "code",
   "execution_count": 12,
   "id": "af69f360-aac2-4147-ac7b-83298bd15cef",
   "metadata": {},
   "outputs": [],
   "source": [
    "def getPandaDfForSearchResults(searchResultsPage):\n",
    "    rows=[]\n",
    "    for result in searchResultsPage:\n",
    "        title = result.find(\"span\", {\"class\": \"a-text-normal\"})\n",
    "        sponsored = result.find(\"span\", {\"class\": \"a-color-base\"}, string=\"Sponsored\")\n",
    "        price = result.find(\"span\", {\"class\": \"a-price-whole\"})\n",
    "        url = result.find(\"a\", {\"class\": \"a-link-normal\"})\n",
    "        if price:\n",
    "            row = [title.text, bool(sponsored), price.text, \"https://amazon.com/\" + url['href']]\n",
    "            rows.append(row)\n",
    "    \n",
    "    df=pd.DataFrame.from_records(rows, columns=[\"Title\", \"Sponsored\", \"Price\", \"URL\"])\n",
    "    return df"
   ]
  },
  {
   "cell_type": "markdown",
   "id": "61b684e0",
   "metadata": {},
   "source": [
    "## Função maluca de Scrapping"
   ]
  },
  {
   "cell_type": "code",
   "execution_count": 13,
   "id": "afa35449-d7f2-4424-9883-e876c7d893a0",
   "metadata": {},
   "outputs": [],
   "source": [
    "import pandas as pd\n",
    "\n",
    "\n",
    "\n",
    "def getSearchResultsForPage(url):\n",
    "    wd.get(url)\n",
    "    nextPageCssClasses=[]\n",
    "    nextPageLink = wd.find_element(By.CLASS_NAME, \"s-pagination-next\")\n",
    "\n",
    "\n",
    "    df_all_search_results = pd.DataFrame(columns=[\"Title\", \"Sponsored\", \"Price\"])\n",
    "    while not \"s-pagination-disabled\" in nextPageCssClasses:    \n",
    "        soup = BeautifulSoup(wd.page_source)\n",
    "        searchResultsPage = soup.findAll(\"div\", {\"data-component-type\": \"s-search-result\"})\n",
    "        df = getPandaDfForSearchResults(searchResultsPage)\n",
    "        df_all_search_results = pd.concat([df_all_search_results, df])\n",
    "\n",
    "        # go to next page\n",
    "        nextPageLink.click()\n",
    "        nextPageLink = wd.find_element(By.CLASS_NAME, \"s-pagination-next\")\n",
    "        nextPageCssClasses = nextPageLink.get_attribute(\"class\").split()\n",
    "        time.sleep(2)\n",
    "\n",
    "    if \"s-pagination-disabled\" in nextPageCssClasses:\n",
    "        print(\"Reached last page of search results\")\n",
    "\n",
    "    df_all_search_results['Price'] = df_all_search_results['Price'].str.replace(\",\",\"\")\n",
    "    df_all_search_results['Price'] = df_all_search_results['Price'].str.replace(\".\",\"\")\n",
    "    df_all_search_results['Price'] = df_all_search_results['Price'].astype(float)\n",
    "    return df_all_search_results    \n",
    "                            "
   ]
  },
  {
   "cell_type": "markdown",
   "id": "906dfcae",
   "metadata": {},
   "source": [
    "## Search \"Galaxy S24 Ultra\""
   ]
  },
  {
   "cell_type": "code",
   "execution_count": 14,
   "id": "bb74fe43-64f4-4119-af12-56d57b039fb2",
   "metadata": {
    "scrolled": true
   },
   "outputs": [
    {
     "name": "stderr",
     "output_type": "stream",
     "text": [
      "C:\\Users\\fabio\\AppData\\Local\\Temp\\ipykernel_21368\\2366347197.py:16: FutureWarning: In a future version, object-dtype columns with all-bool values will not be included in reductions with bool_only=True. Explicitly cast to bool dtype instead.\n",
      "  df_all_search_results = pd.concat([df_all_search_results, df])\n",
      "C:\\Users\\fabio\\AppData\\Local\\Temp\\ipykernel_21368\\2366347197.py:16: FutureWarning: In a future version, object-dtype columns with all-bool values will not be included in reductions with bool_only=True. Explicitly cast to bool dtype instead.\n",
      "  df_all_search_results = pd.concat([df_all_search_results, df])\n"
     ]
    },
    {
     "name": "stdout",
     "output_type": "stream",
     "text": [
      "Reached last page of search results\n"
     ]
    },
    {
     "name": "stderr",
     "output_type": "stream",
     "text": [
      "C:\\Users\\fabio\\AppData\\Local\\Temp\\ipykernel_21368\\2366347197.py:28: FutureWarning: The default value of regex will change from True to False in a future version. In addition, single character regular expressions will *not* be treated as literal strings when regex=True.\n",
      "  df_all_search_results['Price'] = df_all_search_results['Price'].str.replace(\".\",\"\")\n"
     ]
    },
    {
     "data": {
      "text/html": [
       "<div>\n",
       "<style scoped>\n",
       "    .dataframe tbody tr th:only-of-type {\n",
       "        vertical-align: middle;\n",
       "    }\n",
       "\n",
       "    .dataframe tbody tr th {\n",
       "        vertical-align: top;\n",
       "    }\n",
       "\n",
       "    .dataframe thead th {\n",
       "        text-align: right;\n",
       "    }\n",
       "</style>\n",
       "<table border=\"1\" class=\"dataframe\">\n",
       "  <thead>\n",
       "    <tr style=\"text-align: right;\">\n",
       "      <th></th>\n",
       "      <th>Title</th>\n",
       "      <th>Sponsored</th>\n",
       "      <th>Price</th>\n",
       "      <th>URL</th>\n",
       "    </tr>\n",
       "  </thead>\n",
       "  <tbody>\n",
       "    <tr>\n",
       "      <th>0</th>\n",
       "      <td>Smartphone Samsung Galaxy S24 Ultra, Galaxy AI...</td>\n",
       "      <td>False</td>\n",
       "      <td>8620.0</td>\n",
       "      <td>https://amazon.com//Smartphone-Samsung-Galaxy-...</td>\n",
       "    </tr>\n",
       "    <tr>\n",
       "      <th>1</th>\n",
       "      <td>Smartphone Samsung Galaxy S24 Ultra, Galaxy AI...</td>\n",
       "      <td>False</td>\n",
       "      <td>7899.0</td>\n",
       "      <td>https://amazon.com//Smartphone-Samsung-Galaxy-...</td>\n",
       "    </tr>\n",
       "    <tr>\n",
       "      <th>2</th>\n",
       "      <td>Smartphone Samsung Galaxy S24 Ultra, Galaxy AI...</td>\n",
       "      <td>False</td>\n",
       "      <td>7558.0</td>\n",
       "      <td>https://amazon.com//Smartphone-Samsung-Galaxy-...</td>\n",
       "    </tr>\n",
       "    <tr>\n",
       "      <th>3</th>\n",
       "      <td>Smartphone Samsung Galaxy S24 Ultra, Galaxy AI...</td>\n",
       "      <td>False</td>\n",
       "      <td>7698.0</td>\n",
       "      <td>https://amazon.com//Smartphone-Samsung-Galaxy-...</td>\n",
       "    </tr>\n",
       "    <tr>\n",
       "      <th>4</th>\n",
       "      <td>Smartphone Samsung Galaxy S24 Ultra, Galaxy AI...</td>\n",
       "      <td>False</td>\n",
       "      <td>8057.0</td>\n",
       "      <td>https://amazon.com//Smartphone-Samsung-Galaxy-...</td>\n",
       "    </tr>\n",
       "    <tr>\n",
       "      <th>...</th>\n",
       "      <td>...</td>\n",
       "      <td>...</td>\n",
       "      <td>...</td>\n",
       "      <td>...</td>\n",
       "    </tr>\n",
       "    <tr>\n",
       "      <th>52</th>\n",
       "      <td>Humixx Capa magnética poderosa para Samsung Ga...</td>\n",
       "      <td>False</td>\n",
       "      <td>166.0</td>\n",
       "      <td>https://amazon.com//Samsung-Galaxy-S24-Ultra-a...</td>\n",
       "    </tr>\n",
       "    <tr>\n",
       "      <th>53</th>\n",
       "      <td>Kepuch Silklike Capa para Samsung Galaxy S24 U...</td>\n",
       "      <td>False</td>\n",
       "      <td>69.0</td>\n",
       "      <td>https://amazon.com//sspa/click?ie=UTF8&amp;spc=MTo...</td>\n",
       "    </tr>\n",
       "    <tr>\n",
       "      <th>54</th>\n",
       "      <td>Capa Capinha Magnética Para Galaxy S24 Ultra 4...</td>\n",
       "      <td>False</td>\n",
       "      <td>79.0</td>\n",
       "      <td>https://amazon.com//sspa/click?ie=UTF8&amp;spc=MTo...</td>\n",
       "    </tr>\n",
       "    <tr>\n",
       "      <th>55</th>\n",
       "      <td>Capa Capinha Com Bordas Anti Impacto Compatíve...</td>\n",
       "      <td>False</td>\n",
       "      <td>30.0</td>\n",
       "      <td>https://amazon.com//sspa/click?ie=UTF8&amp;spc=MTo...</td>\n",
       "    </tr>\n",
       "    <tr>\n",
       "      <th>56</th>\n",
       "      <td>Jasonyu Flip Carteira Capa para Samsung S24 Ul...</td>\n",
       "      <td>False</td>\n",
       "      <td>169.0</td>\n",
       "      <td>https://amazon.com//sspa/click?ie=UTF8&amp;spc=MTo...</td>\n",
       "    </tr>\n",
       "  </tbody>\n",
       "</table>\n",
       "<p>172 rows × 4 columns</p>\n",
       "</div>"
      ],
      "text/plain": [
       "                                                Title Sponsored   Price  \\\n",
       "0   Smartphone Samsung Galaxy S24 Ultra, Galaxy AI...     False  8620.0   \n",
       "1   Smartphone Samsung Galaxy S24 Ultra, Galaxy AI...     False  7899.0   \n",
       "2   Smartphone Samsung Galaxy S24 Ultra, Galaxy AI...     False  7558.0   \n",
       "3   Smartphone Samsung Galaxy S24 Ultra, Galaxy AI...     False  7698.0   \n",
       "4   Smartphone Samsung Galaxy S24 Ultra, Galaxy AI...     False  8057.0   \n",
       "..                                                ...       ...     ...   \n",
       "52  Humixx Capa magnética poderosa para Samsung Ga...     False   166.0   \n",
       "53  Kepuch Silklike Capa para Samsung Galaxy S24 U...     False    69.0   \n",
       "54  Capa Capinha Magnética Para Galaxy S24 Ultra 4...     False    79.0   \n",
       "55  Capa Capinha Com Bordas Anti Impacto Compatíve...     False    30.0   \n",
       "56  Jasonyu Flip Carteira Capa para Samsung S24 Ul...     False   169.0   \n",
       "\n",
       "                                                  URL  \n",
       "0   https://amazon.com//Smartphone-Samsung-Galaxy-...  \n",
       "1   https://amazon.com//Smartphone-Samsung-Galaxy-...  \n",
       "2   https://amazon.com//Smartphone-Samsung-Galaxy-...  \n",
       "3   https://amazon.com//Smartphone-Samsung-Galaxy-...  \n",
       "4   https://amazon.com//Smartphone-Samsung-Galaxy-...  \n",
       "..                                                ...  \n",
       "52  https://amazon.com//Samsung-Galaxy-S24-Ultra-a...  \n",
       "53  https://amazon.com//sspa/click?ie=UTF8&spc=MTo...  \n",
       "54  https://amazon.com//sspa/click?ie=UTF8&spc=MTo...  \n",
       "55  https://amazon.com//sspa/click?ie=UTF8&spc=MTo...  \n",
       "56  https://amazon.com//sspa/click?ie=UTF8&spc=MTo...  \n",
       "\n",
       "[172 rows x 4 columns]"
      ]
     },
     "execution_count": 14,
     "metadata": {},
     "output_type": "execute_result"
    }
   ],
   "source": [
    "search_S24 = getSearchResultsForPage(\"https://www.amazon.com.br/s?k=galaxy+s24+ultra&__mk_pt_BR=%C3%85M%C3%85%C5%BD%C3%95%C3%91&crid=2279U6AQ2A18W&sprefix=galaxy+s24+ultra%2Caps%2C255&ref=nb_sb_noss_1\")\n",
    "search_S24"
   ]
  },
  {
   "cell_type": "code",
   "execution_count": 95,
   "id": "5c5391a7",
   "metadata": {},
   "outputs": [],
   "source": [
    "search_S24.to_excel(\"C:\\\\Users\\\\fabio\\\\OneDrive\\\\Documentos\\\\Eletiva web\\\\Search galaxy s24 ultra.xlsx\", index=False)"
   ]
  },
  {
   "cell_type": "markdown",
   "id": "2f9e54ff",
   "metadata": {},
   "source": [
    "## Search \"Iphone 15 Pro Max\""
   ]
  },
  {
   "cell_type": "code",
   "execution_count": 15,
   "id": "3cfb516a-6017-49e1-a07c-71fd507e38ab",
   "metadata": {
    "scrolled": false
   },
   "outputs": [
    {
     "name": "stderr",
     "output_type": "stream",
     "text": [
      "C:\\Users\\fabio\\AppData\\Local\\Temp\\ipykernel_21368\\2366347197.py:16: FutureWarning: In a future version, object-dtype columns with all-bool values will not be included in reductions with bool_only=True. Explicitly cast to bool dtype instead.\n",
      "  df_all_search_results = pd.concat([df_all_search_results, df])\n"
     ]
    },
    {
     "name": "stdout",
     "output_type": "stream",
     "text": [
      "Reached last page of search results\n"
     ]
    },
    {
     "name": "stderr",
     "output_type": "stream",
     "text": [
      "C:\\Users\\fabio\\AppData\\Local\\Temp\\ipykernel_21368\\2366347197.py:28: FutureWarning: The default value of regex will change from True to False in a future version. In addition, single character regular expressions will *not* be treated as literal strings when regex=True.\n",
      "  df_all_search_results['Price'] = df_all_search_results['Price'].str.replace(\".\",\"\")\n"
     ]
    },
    {
     "data": {
      "text/html": [
       "<div>\n",
       "<style scoped>\n",
       "    .dataframe tbody tr th:only-of-type {\n",
       "        vertical-align: middle;\n",
       "    }\n",
       "\n",
       "    .dataframe tbody tr th {\n",
       "        vertical-align: top;\n",
       "    }\n",
       "\n",
       "    .dataframe thead th {\n",
       "        text-align: right;\n",
       "    }\n",
       "</style>\n",
       "<table border=\"1\" class=\"dataframe\">\n",
       "  <thead>\n",
       "    <tr style=\"text-align: right;\">\n",
       "      <th></th>\n",
       "      <th>Title</th>\n",
       "      <th>Sponsored</th>\n",
       "      <th>Price</th>\n",
       "      <th>URL</th>\n",
       "    </tr>\n",
       "  </thead>\n",
       "  <tbody>\n",
       "    <tr>\n",
       "      <th>0</th>\n",
       "      <td>Apple iPhone 15 Pro (512 GB) — Titânio preto</td>\n",
       "      <td>False</td>\n",
       "      <td>8999.0</td>\n",
       "      <td>https://amazon.com//sspa/click?ie=UTF8&amp;spc=MTo...</td>\n",
       "    </tr>\n",
       "    <tr>\n",
       "      <th>1</th>\n",
       "      <td>Apple iPhone 15 Pro Max (512 GB) — Titânio Azul</td>\n",
       "      <td>False</td>\n",
       "      <td>8423.0</td>\n",
       "      <td>https://amazon.com//sspa/click?ie=UTF8&amp;spc=MTo...</td>\n",
       "    </tr>\n",
       "    <tr>\n",
       "      <th>2</th>\n",
       "      <td>Apple iPhone 15 Pro Max (256) — Titânio preto</td>\n",
       "      <td>False</td>\n",
       "      <td>7899.0</td>\n",
       "      <td>https://amazon.com//Apple-iPhone-Pro-Max-256/d...</td>\n",
       "    </tr>\n",
       "    <tr>\n",
       "      <th>3</th>\n",
       "      <td>Apple iPhone 15 Pro (128) — Titânio natural</td>\n",
       "      <td>False</td>\n",
       "      <td>6967.0</td>\n",
       "      <td>https://amazon.com//Apple-iPhone-15-Pro-128/dp...</td>\n",
       "    </tr>\n",
       "    <tr>\n",
       "      <th>4</th>\n",
       "      <td>Apple iPhone 15 (128 GB) — Preto</td>\n",
       "      <td>False</td>\n",
       "      <td>4848.0</td>\n",
       "      <td>https://amazon.com//Apple-iPhone-15-128-GB/dp/...</td>\n",
       "    </tr>\n",
       "    <tr>\n",
       "      <th>...</th>\n",
       "      <td>...</td>\n",
       "      <td>...</td>\n",
       "      <td>...</td>\n",
       "      <td>...</td>\n",
       "    </tr>\n",
       "    <tr>\n",
       "      <th>50</th>\n",
       "      <td>Kit Carregador Magnético Indução + Fonte USB-C...</td>\n",
       "      <td>False</td>\n",
       "      <td>72.0</td>\n",
       "      <td>https://amazon.com//Carregador-Magn%C3%A9tico-...</td>\n",
       "    </tr>\n",
       "    <tr>\n",
       "      <th>51</th>\n",
       "      <td>GVIEWIN Capa compatível com iPhone 15 Pro Max ...</td>\n",
       "      <td>False</td>\n",
       "      <td>164.0</td>\n",
       "      <td>https://amazon.com//sspa/click?ie=UTF8&amp;spc=MTo...</td>\n",
       "    </tr>\n",
       "    <tr>\n",
       "      <th>52</th>\n",
       "      <td>Berkin Arts Capa macia transparente compatível...</td>\n",
       "      <td>False</td>\n",
       "      <td>155.0</td>\n",
       "      <td>https://amazon.com//sspa/click?ie=UTF8&amp;spc=MTo...</td>\n",
       "    </tr>\n",
       "    <tr>\n",
       "      <th>53</th>\n",
       "      <td>REYGEAK Mag-safe Suporte de pescoço POV para i...</td>\n",
       "      <td>False</td>\n",
       "      <td>270.0</td>\n",
       "      <td>https://amazon.com//sspa/click?ie=UTF8&amp;spc=MTo...</td>\n",
       "    </tr>\n",
       "    <tr>\n",
       "      <th>54</th>\n",
       "      <td>Kit Capa Anti Impacto e Película De Vidro 3D 9...</td>\n",
       "      <td>False</td>\n",
       "      <td>29.0</td>\n",
       "      <td>https://amazon.com//sspa/click?ie=UTF8&amp;spc=MTo...</td>\n",
       "    </tr>\n",
       "  </tbody>\n",
       "</table>\n",
       "<p>112 rows × 4 columns</p>\n",
       "</div>"
      ],
      "text/plain": [
       "                                                Title Sponsored   Price  \\\n",
       "0        Apple iPhone 15 Pro (512 GB) — Titânio preto     False  8999.0   \n",
       "1     Apple iPhone 15 Pro Max (512 GB) — Titânio Azul     False  8423.0   \n",
       "2       Apple iPhone 15 Pro Max (256) — Titânio preto     False  7899.0   \n",
       "3         Apple iPhone 15 Pro (128) — Titânio natural     False  6967.0   \n",
       "4                    Apple iPhone 15 (128 GB) — Preto     False  4848.0   \n",
       "..                                                ...       ...     ...   \n",
       "50  Kit Carregador Magnético Indução + Fonte USB-C...     False    72.0   \n",
       "51  GVIEWIN Capa compatível com iPhone 15 Pro Max ...     False   164.0   \n",
       "52  Berkin Arts Capa macia transparente compatível...     False   155.0   \n",
       "53  REYGEAK Mag-safe Suporte de pescoço POV para i...     False   270.0   \n",
       "54  Kit Capa Anti Impacto e Película De Vidro 3D 9...     False    29.0   \n",
       "\n",
       "                                                  URL  \n",
       "0   https://amazon.com//sspa/click?ie=UTF8&spc=MTo...  \n",
       "1   https://amazon.com//sspa/click?ie=UTF8&spc=MTo...  \n",
       "2   https://amazon.com//Apple-iPhone-Pro-Max-256/d...  \n",
       "3   https://amazon.com//Apple-iPhone-15-Pro-128/dp...  \n",
       "4   https://amazon.com//Apple-iPhone-15-128-GB/dp/...  \n",
       "..                                                ...  \n",
       "50  https://amazon.com//Carregador-Magn%C3%A9tico-...  \n",
       "51  https://amazon.com//sspa/click?ie=UTF8&spc=MTo...  \n",
       "52  https://amazon.com//sspa/click?ie=UTF8&spc=MTo...  \n",
       "53  https://amazon.com//sspa/click?ie=UTF8&spc=MTo...  \n",
       "54  https://amazon.com//sspa/click?ie=UTF8&spc=MTo...  \n",
       "\n",
       "[112 rows x 4 columns]"
      ]
     },
     "execution_count": 15,
     "metadata": {},
     "output_type": "execute_result"
    }
   ],
   "source": [
    "search_iphone_15 = getSearchResultsForPage(\"https://www.amazon.com.br/s?k=Iphone+15+pro+max&__mk_pt_BR=%C3%85M%C3%85%C5%BD%C3%95%C3%91&crid=3H2LQPQLRB3PL&sprefix=iphone+15+pro+ma%2Caps%2C256&ref=nb_sb_noss_2\")\n",
    "search_iphone_15"
   ]
  },
  {
   "cell_type": "code",
   "execution_count": 96,
   "id": "b78eb89d",
   "metadata": {},
   "outputs": [],
   "source": [
    "search_iphone_15.to_excel(\"C:\\\\Users\\\\fabio\\\\OneDrive\\\\Documentos\\\\Eletiva web\\\\Search iphone 15 pro max.xlsx\", index=False)"
   ]
  },
  {
   "cell_type": "code",
   "execution_count": 16,
   "id": "33a40ce5",
   "metadata": {},
   "outputs": [
    {
     "data": {
      "text/plain": [
       "(              Price\n",
       " count    172.000000\n",
       " mean     910.691860\n",
       " std     2083.340599\n",
       " min       12.000000\n",
       " 25%       91.000000\n",
       " 50%      169.000000\n",
       " 75%      252.000000\n",
       " max    10939.000000,\n",
       "               Price\n",
       " count    112.000000\n",
       " mean    1416.008929\n",
       " std     2629.729149\n",
       " min       12.000000\n",
       " 25%       99.000000\n",
       " 50%      202.000000\n",
       " 75%      789.750000\n",
       " max    10499.000000)"
      ]
     },
     "execution_count": 16,
     "metadata": {},
     "output_type": "execute_result"
    }
   ],
   "source": [
    "S24_describe = search_S24.describe()\n",
    "iphone_describe = search_iphone_15.describe()\n",
    "\n",
    "S24_describe, iphone_describe"
   ]
  },
  {
   "cell_type": "markdown",
   "id": "3d24601a",
   "metadata": {},
   "source": [
    "#### Pode-se perceber variância e média mais altas nos preços do Iphone 15 Pro Max, apesar do Samsung Galaxy S24 Ultra possuir o preço máximo mais alto."
   ]
  },
  {
   "cell_type": "code",
   "execution_count": 17,
   "id": "6ebbe301",
   "metadata": {},
   "outputs": [
    {
     "data": {
      "image/png": "[encoded data removed]",
      "text/plain": [
       "<Figure size 1200x600 with 2 Axes>"
      ]
     },
     "metadata": {},
     "output_type": "display_data"
    }
   ],
   "source": [
    "plt.figure(figsize=(12, 6))\n",
    "\n",
    "plt.subplot(1, 2, 1)\n",
    "plt.hist(search_S24['Price'], bins=10, alpha=0.7, color='blue')\n",
    "plt.title('Distribuição dos Preços do Samsung Galaxy S24 Ultra')\n",
    "plt.xlabel('Preço')\n",
    "plt.ylabel('Frequência')\n",
    "\n",
    "plt.subplot(1, 2, 2)\n",
    "plt.boxplot(search_S24['Price'], vert=False)\n",
    "plt.title('Boxplot dos Preços do Samsung Galaxy S24 Ultra')\n",
    "plt.xlabel('Preço')\n",
    "\n",
    "plt.tight_layout()\n",
    "plt.show()"
   ]
  },
  {
   "cell_type": "markdown",
   "id": "2936d27f",
   "metadata": {},
   "source": [
    "##### Pode-se perceber nos dois gráficos uma grande concentração de dados em valores mais baixos, com pequena variação entre os valores centrais e uma grande quantidade de outliers."
   ]
  },
  {
   "cell_type": "code",
   "execution_count": 18,
   "id": "5f057806",
   "metadata": {},
   "outputs": [
    {
     "data": {
      "image/png": "[encoded data removed]",
      "text/plain": [
       "<Figure size 1200x600 with 2 Axes>"
      ]
     },
     "metadata": {},
     "output_type": "display_data"
    }
   ],
   "source": [
    "plt.figure(figsize=(12, 6))\n",
    "\n",
    "plt.subplot(1, 2, 1)\n",
    "plt.hist(search_iphone_15['Price'], bins=10, alpha=0.7, color='blue')\n",
    "plt.title('Distribuição dos Preços do Iphone 15 Pro Max')\n",
    "plt.xlabel('Preço')\n",
    "plt.ylabel('Frequência')\n",
    "\n",
    "plt.subplot(1, 2, 2)\n",
    "plt.boxplot(search_iphone_15['Price'], vert=False)\n",
    "plt.title('Boxplot dos Preços do Iphone 15 Pro Max')\n",
    "plt.xlabel('Preço')\n",
    "\n",
    "plt.tight_layout()\n",
    "plt.show()"
   ]
  },
  {
   "cell_type": "markdown",
   "id": "3771390d",
   "metadata": {},
   "source": [
    "#### Os gráficos para a análise de dispersão de dados do Iphone 15 Pro Max é parecida com os gráficos do Samsung Galaxy S24 Ultra. Possui uma grande concentração de dados em valores mais baixos, com baixa variação entre os dados centrais com um elevado número de outliers"
   ]
  },
  {
   "cell_type": "code",
   "execution_count": 19,
   "id": "15eab8de",
   "metadata": {},
   "outputs": [
    {
     "data": {
      "image/png": "[encoded data removed]",
      "text/plain": [
       "<Figure size 1200x600 with 1 Axes>"
      ]
     },
     "metadata": {},
     "output_type": "display_data"
    }
   ],
   "source": [
    "plt.figure(figsize=(12, 6))\n",
    "plt.hist(search_S24['Price'], bins=20, alpha=0.5, label='Samsung Galaxy S24 Ultra')\n",
    "plt.hist(search_iphone_15['Price'], bins=20, alpha=0.5, label='iPhone 15 Pro Max')\n",
    "plt.xlabel('Preço')\n",
    "plt.ylabel('Frequência')\n",
    "plt.title('Comparação de Preços entre Samsung Galaxy S24 Ultra e iPhone 15 Pro Max')\n",
    "plt.legend(loc='upper right')\n",
    "plt.show()"
   ]
  },
  {
   "cell_type": "code",
   "execution_count": 20,
   "id": "5611dc36",
   "metadata": {
    "scrolled": true
   },
   "outputs": [
    {
     "data": {
      "text/html": [
       "<div>\n",
       "<style scoped>\n",
       "    .dataframe tbody tr th:only-of-type {\n",
       "        vertical-align: middle;\n",
       "    }\n",
       "\n",
       "    .dataframe tbody tr th {\n",
       "        vertical-align: top;\n",
       "    }\n",
       "\n",
       "    .dataframe thead th {\n",
       "        text-align: right;\n",
       "    }\n",
       "</style>\n",
       "<table border=\"1\" class=\"dataframe\">\n",
       "  <thead>\n",
       "    <tr style=\"text-align: right;\">\n",
       "      <th></th>\n",
       "      <th>Title</th>\n",
       "      <th>Sponsored</th>\n",
       "      <th>Price</th>\n",
       "      <th>URL</th>\n",
       "    </tr>\n",
       "  </thead>\n",
       "  <tbody>\n",
       "    <tr>\n",
       "      <th>6</th>\n",
       "      <td>Smartphone Samsung Galaxy S24 Ultra, Galaxy AI...</td>\n",
       "      <td>False</td>\n",
       "      <td>10939.0</td>\n",
       "      <td>https://amazon.com//Smartphone-Samsung-Qu%C3%A...</td>\n",
       "    </tr>\n",
       "    <tr>\n",
       "      <th>5</th>\n",
       "      <td>Smartphone Samsung Galaxy S24 Ultra, Galaxy AI...</td>\n",
       "      <td>False</td>\n",
       "      <td>9999.0</td>\n",
       "      <td>https://amazon.com//Smartphone-Samsung-Qu%C3%A...</td>\n",
       "    </tr>\n",
       "    <tr>\n",
       "      <th>0</th>\n",
       "      <td>Smartphone Samsung Galaxy S24 Ultra, Galaxy AI...</td>\n",
       "      <td>False</td>\n",
       "      <td>8620.0</td>\n",
       "      <td>https://amazon.com//Smartphone-Samsung-Galaxy-...</td>\n",
       "    </tr>\n",
       "    <tr>\n",
       "      <th>4</th>\n",
       "      <td>Smartphone Samsung Galaxy S24 Ultra, Galaxy AI...</td>\n",
       "      <td>False</td>\n",
       "      <td>8057.0</td>\n",
       "      <td>https://amazon.com//Smartphone-Samsung-Galaxy-...</td>\n",
       "    </tr>\n",
       "    <tr>\n",
       "      <th>1</th>\n",
       "      <td>Smartphone Samsung Galaxy S24 Ultra, Galaxy AI...</td>\n",
       "      <td>False</td>\n",
       "      <td>7899.0</td>\n",
       "      <td>https://amazon.com//Smartphone-Samsung-Galaxy-...</td>\n",
       "    </tr>\n",
       "  </tbody>\n",
       "</table>\n",
       "</div>"
      ],
      "text/plain": [
       "                                               Title Sponsored    Price  \\\n",
       "6  Smartphone Samsung Galaxy S24 Ultra, Galaxy AI...     False  10939.0   \n",
       "5  Smartphone Samsung Galaxy S24 Ultra, Galaxy AI...     False   9999.0   \n",
       "0  Smartphone Samsung Galaxy S24 Ultra, Galaxy AI...     False   8620.0   \n",
       "4  Smartphone Samsung Galaxy S24 Ultra, Galaxy AI...     False   8057.0   \n",
       "1  Smartphone Samsung Galaxy S24 Ultra, Galaxy AI...     False   7899.0   \n",
       "\n",
       "                                                 URL  \n",
       "6  https://amazon.com//Smartphone-Samsung-Qu%C3%A...  \n",
       "5  https://amazon.com//Smartphone-Samsung-Qu%C3%A...  \n",
       "0  https://amazon.com//Smartphone-Samsung-Galaxy-...  \n",
       "4  https://amazon.com//Smartphone-Samsung-Galaxy-...  \n",
       "1  https://amazon.com//Smartphone-Samsung-Galaxy-...  "
      ]
     },
     "execution_count": 20,
     "metadata": {},
     "output_type": "execute_result"
    }
   ],
   "source": [
    "top_5_expensive_S24 = search_S24.nlargest(5, 'Price')\n",
    "top_5_expensive_S24"
   ]
  },
  {
   "cell_type": "code",
   "execution_count": 21,
   "id": "24d94652",
   "metadata": {},
   "outputs": [
    {
     "data": {
      "text/html": [
       "<div>\n",
       "<style scoped>\n",
       "    .dataframe tbody tr th:only-of-type {\n",
       "        vertical-align: middle;\n",
       "    }\n",
       "\n",
       "    .dataframe tbody tr th {\n",
       "        vertical-align: top;\n",
       "    }\n",
       "\n",
       "    .dataframe thead th {\n",
       "        text-align: right;\n",
       "    }\n",
       "</style>\n",
       "<table border=\"1\" class=\"dataframe\">\n",
       "  <thead>\n",
       "    <tr style=\"text-align: right;\">\n",
       "      <th></th>\n",
       "      <th>Title</th>\n",
       "      <th>Sponsored</th>\n",
       "      <th>Price</th>\n",
       "      <th>URL</th>\n",
       "    </tr>\n",
       "  </thead>\n",
       "  <tbody>\n",
       "    <tr>\n",
       "      <th>27</th>\n",
       "      <td>Apple iPhone 13 Pro (256 GB) - Azul Sierra</td>\n",
       "      <td>False</td>\n",
       "      <td>10499.0</td>\n",
       "      <td>https://amazon.com//Apple-iPhone-Pro-256-GB-Az...</td>\n",
       "    </tr>\n",
       "    <tr>\n",
       "      <th>17</th>\n",
       "      <td>Apple iPhone 13 Pro Max (128 GB) - Verde-alpino</td>\n",
       "      <td>False</td>\n",
       "      <td>10142.0</td>\n",
       "      <td>https://amazon.com//Apple-iPhone-Pro-Max-128/d...</td>\n",
       "    </tr>\n",
       "    <tr>\n",
       "      <th>32</th>\n",
       "      <td>Apple iPhone 14 (256 GB) – Estelar</td>\n",
       "      <td>False</td>\n",
       "      <td>9199.0</td>\n",
       "      <td>https://amazon.com//Apple-iPhone-14-256-GB/dp/...</td>\n",
       "    </tr>\n",
       "    <tr>\n",
       "      <th>0</th>\n",
       "      <td>Apple iPhone 15 Pro (512 GB) — Titânio preto</td>\n",
       "      <td>False</td>\n",
       "      <td>8999.0</td>\n",
       "      <td>https://amazon.com//sspa/click?ie=UTF8&amp;spc=MTo...</td>\n",
       "    </tr>\n",
       "    <tr>\n",
       "      <th>1</th>\n",
       "      <td>Apple iPhone 15 Pro Max (512 GB) — Titânio branco</td>\n",
       "      <td>False</td>\n",
       "      <td>8999.0</td>\n",
       "      <td>https://amazon.com//sspa/click?ie=UTF8&amp;spc=MTo...</td>\n",
       "    </tr>\n",
       "  </tbody>\n",
       "</table>\n",
       "</div>"
      ],
      "text/plain": [
       "                                                Title Sponsored    Price  \\\n",
       "27         Apple iPhone 13 Pro (256 GB) - Azul Sierra     False  10499.0   \n",
       "17    Apple iPhone 13 Pro Max (128 GB) - Verde-alpino     False  10142.0   \n",
       "32                 Apple iPhone 14 (256 GB) – Estelar     False   9199.0   \n",
       "0        Apple iPhone 15 Pro (512 GB) — Titânio preto     False   8999.0   \n",
       "1   Apple iPhone 15 Pro Max (512 GB) — Titânio branco     False   8999.0   \n",
       "\n",
       "                                                  URL  \n",
       "27  https://amazon.com//Apple-iPhone-Pro-256-GB-Az...  \n",
       "17  https://amazon.com//Apple-iPhone-Pro-Max-128/d...  \n",
       "32  https://amazon.com//Apple-iPhone-14-256-GB/dp/...  \n",
       "0   https://amazon.com//sspa/click?ie=UTF8&spc=MTo...  \n",
       "1   https://amazon.com//sspa/click?ie=UTF8&spc=MTo...  "
      ]
     },
     "execution_count": 21,
     "metadata": {},
     "output_type": "execute_result"
    }
   ],
   "source": [
    "top_5_expensive_iphone_15 = search_iphone_15.nlargest(5, 'Price')\n",
    "top_5_expensive_iphone_15"
   ]
  },
  {
   "cell_type": "code",
   "execution_count": 23,
   "id": "6c3dfc0b",
   "metadata": {},
   "outputs": [
    {
     "data": {
      "image/png": "[encoded data removed]",
      "text/plain": [
       "<Figure size 1400x700 with 2 Axes>"
      ]
     },
     "metadata": {},
     "output_type": "display_data"
    },
    {
     "data": {
      "text/plain": [
       "(0-1000        147\n",
       " 1000-2000       3\n",
       " 2000-3000       4\n",
       " 3000-4000       3\n",
       " 4000-5000       2\n",
       " 5000-6000       4\n",
       " 6000-7000       1\n",
       " 7000-8000       4\n",
       " 8000-9000       2\n",
       " 9000-10000      1\n",
       " 10000+          1\n",
       " Name: Price, dtype: int64,\n",
       " 0-1000        85\n",
       " 1000-2000      5\n",
       " 2000-3000      4\n",
       " 3000-4000      4\n",
       " 4000-5000      3\n",
       " 5000-6000      1\n",
       " 6000-7000      1\n",
       " 7000-8000      1\n",
       " 8000-9000      5\n",
       " 9000-10000     1\n",
       " 10000+         2\n",
       " Name: Price, dtype: int64)"
      ]
     },
     "execution_count": 23,
     "metadata": {},
     "output_type": "execute_result"
    }
   ],
   "source": [
    "bins = [0, 1000, 2000, 3000, 4000, 5000, 6000, 7000, 8000, 9000, 10000, float('inf')]\n",
    "labels = ['0-1000', '1000-2000', '2000-3000', '3000-4000', '4000-5000', '5000-6000', '6000-7000', '7000-8000', '8000-9000', '9000-10000', '10000+']\n",
    "\n",
    "galaxy_price_groups = pd.cut(search_S24['Price'], bins=bins, labels=labels, right=False)\n",
    "iphone_price_groups = pd.cut(search_iphone_15['Price'], bins=bins, labels=labels, right=False)\n",
    "\n",
    "galaxy_price_counts = galaxy_price_groups.value_counts().sort_index()\n",
    "iphone_price_counts = iphone_price_groups.value_counts().sort_index()\n",
    "\n",
    "plt.figure(figsize=(14, 7))\n",
    "\n",
    "plt.subplot(1, 2, 1)\n",
    "galaxy_price_counts.plot(kind='bar', color='blue')\n",
    "plt.title('Distribuição dos Preços do Samsung Galaxy S24 Ultra por Faixas')\n",
    "plt.xlabel('Faixas de Preço (R$)')\n",
    "plt.ylabel('Frequência')\n",
    "\n",
    "plt.subplot(1, 2, 2)\n",
    "iphone_price_counts.plot(kind='bar', color='green')\n",
    "plt.title('Distribuição dos Preços do iPhone 15 Pro Max por Faixas')\n",
    "plt.xlabel('Faixas de Preço (R$)')\n",
    "plt.ylabel('Frequência')\n",
    "\n",
    "plt.tight_layout()\n",
    "plt.show()\n",
    "\n",
    "galaxy_price_counts, iphone_price_counts\n"
   ]
  },
  {
   "cell_type": "markdown",
   "id": "19084cf8",
   "metadata": {},
   "source": [
    "#### Novamente mostra variância parecida entre os preços do Iphone 15 Pro Max e do Samsung Galaxy S24 Ultra, mas é possivel perceber uma concentração de dados maior em valores mais altos no Iphone 15."
   ]
  }
 ],
 "metadata": {
  "kernelspec": {
   "display_name": "Python 3 (ipykernel)",
   "language": "python",
   "name": "python3"
  },
  "language_info": {
   "codemirror_mode": {
    "name": "ipython",
    "version": 3
   },
   "file_extension": ".py",
   "mimetype": "text/x-python",
   "name": "python",
   "nbconvert_exporter": "python",
   "pygments_lexer": "ipython3",
   "version": "3.10.11"
  }
 },
 "nbformat": 4,
 "nbformat_minor": 5
}
