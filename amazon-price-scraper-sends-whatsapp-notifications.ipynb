{
 "cells": [
  {
   "cell_type": "markdown",
   "id": "cd7239bd",
   "metadata": {},
   "source": [
    "# Projeto Análise de Textos de Fontes Desestruturas e Web"
   ]
  },
  {
   "cell_type": "markdown",
   "id": "3bd0f657",
   "metadata": {},
   "source": [
    "### Importando Bibliotecas:"
   ]
  },
  {
   "cell_type": "code",
   "execution_count": 1,
   "id": "d71d4f60",
   "metadata": {},
   "outputs": [],
   "source": [
    "import os\n",
    "import time\n",
    "import pandas as pd\n",
    "\n",
    "from selenium import webdriver\n",
    "from selenium.webdriver.chrome.service import Service\n",
    "from webdriver_manager.chrome import ChromeDriverManager\n",
    "from selenium.webdriver.common.by import By"
   ]
  },
  {
   "cell_type": "markdown",
   "id": "e7b94093",
   "metadata": {},
   "source": [
    "### Configuração:"
   ]
  },
  {
   "cell_type": "code",
   "execution_count": 2,
   "id": "ebb91d8e",
   "metadata": {},
   "outputs": [],
   "source": [
    "my_phone_number=\"+5511991982436\"\n",
    "CHROME_PROFILE_PATH = \"user-data-dir=C:\\\\Users\\\\gabri\\\\AppData\\\\Local\\\\Google\\\\Chrome\\\\User Data\\\\WebScrapping\\\\Projeto\""
   ]
  },
  {
   "cell_type": "code",
   "execution_count": 3,
   "id": "c3b312d0-73be-4aec-8fa9-97abf4f06af3",
   "metadata": {},
   "outputs": [],
   "source": [
    "options = webdriver.ChromeOptions()\n",
    "options.add_argument(CHROME_PROFILE_PATH)\n",
    "\n",
    "wd = webdriver.Chrome(service=Service(ChromeDriverManager().install()), options=options)"
   ]
  },
  {
   "cell_type": "markdown",
   "id": "c0611c6c",
   "metadata": {},
   "source": [
    "### Setup de Localização de Entrega:\n",
    "Executar somente uma vez, a localização será guardada nos cookies da sessão."
   ]
  },
  {
   "cell_type": "code",
   "execution_count": 4,
   "id": "2acb6c0b-7ecc-4b33-ad61-e6b878421a72",
   "metadata": {
    "tags": []
   },
   "outputs": [],
   "source": [
    "# wd.get(\"https://amazon.com\")\n",
    "\n",
    "# import time\n",
    "# time.sleep(5)\n",
    "\n",
    "# wd.find_element(By.ID, \"nav-global-location-popover-link\").click()\n",
    "# time.sleep(2)\n",
    "# postcode_field = wd.find_element(By.ID, \"GLUXZipUpdateInput\")\n",
    "# postcode_field.send_keys(\"80021\")\n",
    "# time.sleep(2)\n",
    "# wd.find_element(By.ID, \"GLUXZipUpdate\").click()\n",
    "# close_element = wd.find_element(By.XPATH, '//*[@id=\"a-popover-1\"]/div/div[2]/span/span/span/button')\n",
    "# close_element.click()"
   ]
  },
  {
   "cell_type": "markdown",
   "id": "f8702320",
   "metadata": {},
   "source": [
    "### Web Scrapping da Amazon:"
   ]
  },
  {
   "cell_type": "code",
   "execution_count": 5,
   "id": "f65c79a6-34bb-43f4-8a07-222487802679",
   "metadata": {},
   "outputs": [],
   "source": [
    "wd.get(\"https://www.amazon.com/s?k=rtx+3080+ti&i=computers&bbn=284822&rh=n%3A284822%2Cp_n_feature_twenty-one_browse-bin%3A21563385011%2Cp_n_feature_twenty_browse-bin%3A23572110011&dc&qid=1630186292&rnid=2661599011&ref=sr_nr_p_n_availability_2\")"
   ]
  },
  {
   "cell_type": "code",
   "execution_count": 6,
   "id": "15eaac41-f891-4714-a095-da6e5739f36b",
   "metadata": {},
   "outputs": [
    {
     "name": "stdout",
     "output_type": "stream",
     "text": [
      "* 717. - Geforce RTX 3080 Ti 12GB GDDR6X PCI Express 4.0 Graphics Card Titanium and Black (Renewed)\n",
      "* 699. - EVGA GeForce RTX 3080 Ti FTW3 Ultra Gaming, 12G-P5-3967-KR, 12GB GDDR6X, iCX3 Technology, ARGB LED, Metal Backplate (Renewed)\n",
      "* 684. - MSI Gaming GeForce RTX 3080 Ti Ventus 3X 12G OC - 12GB GDDR6X Graphic Card for PC Gaming, 320-Bit HDMI/DP, NVIDIA GPU, Tri-Frozr 2 Cooling, Ampere Architecture, Computer Video Graphics Card (Renewed)\n",
      "* 749. - ASUS TUF Gaming NVIDIA GeForce RTX 3080 Ti OC Edition Graphics Card (PCIe 4.0, 12GB GDDR6X, HDMI 2.1, DisplayPort 1.4a, Dual Ball Fan Bearings, Military-Grade Certification, GPU Tweak II) (Renewed)\n",
      "* 689. - MSI Gaming GeForce RTX 3080 Ti Gaming X Trio 12G Computer Gaming Graphics Card 12GB GDRR6X 320-Bit HDMI/DP Nvlink Torx Fan 3 Ampere Architecture OC, NVIDIA GPU Video Cards for Gaming PC (Renewed)\n",
      "* 979. - Geforce RTX 3080 Ti 12GB GDDR6X PCI Express 4.0 Graphics Card Titanium and Black\n",
      "* 799. - EVGA GeForce RTX 3080 Ti XC3 Ultra Gaming, 12G-P5-3955-KR, 12GB GDDR6X, iCX3 Cooling, ARGB LED, Metal Backplate (Renewed)\n",
      "* 1,329. - MSI GeForce RTX 3080 Ti Gaming X Trio 12G Gaming Graphics Card - 12GB GDDR6X, 1770 MHz, PCI Express Gen 4, 384-bit, 3X DP v 1.4a, HDMI 2.1 (Supports 4K)\n",
      "* 915. - MSI Gaming GeForce RTX 3080 Ti 12GB GDRR6X 320-Bit HDMI/DP Nvlink Tri-Frozr 2 Ampere Architecture OC Graphics Card (RTX 3080 Ti Ventus 3X 12G OC)\n",
      "* 1,229. - Gigabyte GeForce RTX 3080 Ti Gaming OC Graphics Card 12GB GDDR6X PCI-E 4.0\n",
      "* 1,049. - EVGA GeForce RTX 3080 Ti XC3 Ultra Gaming, 12G-P5-3955-KR, 12GB GDDR6X, iCX3 Cooling, ARGB LED, Metal Backplate\n",
      "* 624. - GIGABYTE GeForce RTX 3080 Ti Gaming OC 12G Graphics Card, 3X WINDFORCE Fans, 12GB 384-Bit GDDR6X, GV-N308TGAMING OC-12GD Video Card (Renewed)\n",
      "* 1,199. - GIGABYTE GeForce RTX 3080 Ti Eagle OC 12G Graphics Card, 3X Windforce Fans, 12GB 384-bit GDDR6X, GV-N308TEAGLE OC-12GD Video Card\n",
      "* 849. - ASUS TUF Gaming NVIDIA GeForce RTX™ 4070 Ti Super OC Edition Gaming Graphics Card (PCIe 4.0, 16GB GDDR6X, HDMI 2.1a, DisplayPort 1.4a)\n",
      "* 897. - EVGA GeForce RTX 3080 Ti XC3 Gaming, 12G-P5-3953-KR, 12GB GDDR6X, iCX3 Cooling, ARGB LED, Metal Backplate\n",
      "* 999. - Asus TUF Gaming NVIDIA GeForce RTX 3080 Ti OC Edition Graphics Card (PCIe 4.0, 12GB GDDR6X, HDMI 2.1, DisplayPort 1.4a, Dual Ball Fan Bearings, Military-Grade Certification, GPU Tweak II)\n",
      "* 1,099. - Gigabyte AORUS GeForce RTX 3080 Ti Master 12GB Graphics Card\n",
      "* 1,599. - ASUS ROG Strix LC NVIDIA GeForce RTX 3080 Ti OC Edition Gaming Graphics Card (PCIe 4.0, 12GB GDDR6X, HDMI 2.1, DisplayPort 1.4a, Full-Coverage Cold Plate, 240mm Radiator, 600mm tubing, GPU Tweak II)\n",
      "* 546. - Dell MFKHD Nvidia GeForce RTX 3080 Ti 12GB Graphics Card - GDDR6X - DisplayPort - HDMI (Renewed)\n",
      "* 654. - GIGABYTE GeForce RTX 3080 Ti Vision OC 12G Graphics Card, 3X WINDFORCE Fans, 12GB 384-bit GDDR6X, GV-N308TVISION OC-12GD Video Card (Renewed)\n",
      "* 1,390. - EVGA GeForce RTX 3080 Ti XC3 Ultra Hybrid Gaming, 12G-P5-3958-KR, 12GB GDDR6X, ARGB LED, Metal Backplate\n"
     ]
    }
   ],
   "source": [
    "from bs4 import BeautifulSoup\n",
    "\n",
    "soup = BeautifulSoup(wd.page_source)\n",
    "\n",
    "results = soup.findAll(\"div\", {\"data-component-type\": \"s-search-result\"})\n",
    "for result in results:\n",
    "    title = result.find(\"span\", {\"class\": \"a-text-normal\"})\n",
    "    sponsored = result.find(\"span\", {\"class\": \"a-color-base\"}, string=\"Sponsored\")\n",
    "    price = result.find(\"span\", {\"class\": \"a-price-whole\"})\n",
    "    if not sponsored and price:\n",
    "        product = title.text\n",
    "        price = price.text\n",
    "        print(f'* {price} - {product}')\n"
   ]
  },
  {
   "cell_type": "code",
   "execution_count": 7,
   "id": "af69f360-aac2-4147-ac7b-83298bd15cef",
   "metadata": {},
   "outputs": [],
   "source": [
    "def getPandaDfForSearchResults(searchResultsPage):\n",
    "    rows = []\n",
    "    for result in searchResultsPage:\n",
    "        title = result.find(\"span\", {\"class\": \"a-text-normal\"})\n",
    "        sponsored = result.find(\"span\", {\"class\": \"a-color-base\"}, string=\"Sponsored\")\n",
    "        price = result.find(\"span\", {\"class\": \"a-price-whole\"})\n",
    "        url = result.find(\"a\", {\"class\": \"a-link-normal\"})\n",
    "        if price:\n",
    "            row= [title.text, bool(sponsored), price.text, \"https://amazon.com/\" + url['href']]\n",
    "            rows.append(row)\n",
    "    \n",
    "    df = pd.DataFrame.from_records(rows, columns=[\"Title\", \"Sponsored\", \"Price\", \"URL\"])\n",
    "    return df"
   ]
  },
  {
   "cell_type": "code",
   "execution_count": 8,
   "id": "73158ce4",
   "metadata": {},
   "outputs": [
    {
     "ename": "NoSuchElementException",
     "evalue": "Message: no such element: Unable to locate element: {\"method\":\"css selector\",\"selector\":\".s-pagination-next\"}\n  (Session info: chrome=125.0.6422.77); For documentation on this error, please visit: https://www.selenium.dev/documentation/webdriver/troubleshooting/errors#no-such-element-exception\nStacktrace:\n\tGetHandleVerifier [0x00DFB793+45827]\n\t(No symbol) [0x00D8DB74]\n\t(No symbol) [0x00C8150F]\n\t(No symbol) [0x00CC20BC]\n\t(No symbol) [0x00CC216B]\n\t(No symbol) [0x00CFE0F2]\n\t(No symbol) [0x00CE2E44]\n\t(No symbol) [0x00CFC034]\n\t(No symbol) [0x00CE2B96]\n\t(No symbol) [0x00CB6998]\n\t(No symbol) [0x00CB751D]\n\tGetHandleVerifier [0x010B43C3+2899763]\n\tGetHandleVerifier [0x011077ED+3240797]\n\tGetHandleVerifier [0x00E81264+593364]\n\tGetHandleVerifier [0x00E8818C+621820]\n\t(No symbol) [0x00D96F54]\n\t(No symbol) [0x00D93658]\n\t(No symbol) [0x00D937F7]\n\t(No symbol) [0x00D858AE]\n\tBaseThreadInitThunk [0x75627BA9+25]\n\tRtlInitializeExceptionChain [0x773BBE3B+107]\n\tRtlClearBits [0x773BBDBF+191]\n",
     "output_type": "error",
     "traceback": [
      "\u001b[1;31m---------------------------------------------------------------------------\u001b[0m",
      "\u001b[1;31mNoSuchElementException\u001b[0m                    Traceback (most recent call last)",
      "Cell \u001b[1;32mIn[8], line 18\u001b[0m\n\u001b[0;32m     16\u001b[0m \u001b[38;5;66;03m# go to next page\u001b[39;00m\n\u001b[0;32m     17\u001b[0m nextPageLink\u001b[38;5;241m.\u001b[39mclick()\n\u001b[1;32m---> 18\u001b[0m nextPageLink \u001b[38;5;241m=\u001b[39m \u001b[43mwd\u001b[49m\u001b[38;5;241;43m.\u001b[39;49m\u001b[43mfind_element\u001b[49m\u001b[43m(\u001b[49m\u001b[43mBy\u001b[49m\u001b[38;5;241;43m.\u001b[39;49m\u001b[43mCLASS_NAME\u001b[49m\u001b[43m,\u001b[49m\u001b[43m \u001b[49m\u001b[38;5;124;43m\"\u001b[39;49m\u001b[38;5;124;43ms-pagination-next\u001b[39;49m\u001b[38;5;124;43m\"\u001b[39;49m\u001b[43m)\u001b[49m\n\u001b[0;32m     19\u001b[0m nextPageCssClasses \u001b[38;5;241m=\u001b[39m nextPageLink\u001b[38;5;241m.\u001b[39mget_attribute(\u001b[38;5;124m\"\u001b[39m\u001b[38;5;124mclass\u001b[39m\u001b[38;5;124m\"\u001b[39m)\u001b[38;5;241m.\u001b[39msplit()\n\u001b[0;32m     20\u001b[0m time\u001b[38;5;241m.\u001b[39msleep(\u001b[38;5;241m2\u001b[39m)\n",
      "File \u001b[1;32m~\\AppData\\Local\\Programs\\Python\\Python310\\lib\\site-packages\\selenium\\webdriver\\remote\\webdriver.py:741\u001b[0m, in \u001b[0;36mWebDriver.find_element\u001b[1;34m(self, by, value)\u001b[0m\n\u001b[0;32m    738\u001b[0m     by \u001b[38;5;241m=\u001b[39m By\u001b[38;5;241m.\u001b[39mCSS_SELECTOR\n\u001b[0;32m    739\u001b[0m     value \u001b[38;5;241m=\u001b[39m \u001b[38;5;124mf\u001b[39m\u001b[38;5;124m'\u001b[39m\u001b[38;5;124m[name=\u001b[39m\u001b[38;5;124m\"\u001b[39m\u001b[38;5;132;01m{\u001b[39;00mvalue\u001b[38;5;132;01m}\u001b[39;00m\u001b[38;5;124m\"\u001b[39m\u001b[38;5;124m]\u001b[39m\u001b[38;5;124m'\u001b[39m\n\u001b[1;32m--> 741\u001b[0m \u001b[38;5;28;01mreturn\u001b[39;00m \u001b[38;5;28;43mself\u001b[39;49m\u001b[38;5;241;43m.\u001b[39;49m\u001b[43mexecute\u001b[49m\u001b[43m(\u001b[49m\u001b[43mCommand\u001b[49m\u001b[38;5;241;43m.\u001b[39;49m\u001b[43mFIND_ELEMENT\u001b[49m\u001b[43m,\u001b[49m\u001b[43m \u001b[49m\u001b[43m{\u001b[49m\u001b[38;5;124;43m\"\u001b[39;49m\u001b[38;5;124;43musing\u001b[39;49m\u001b[38;5;124;43m\"\u001b[39;49m\u001b[43m:\u001b[49m\u001b[43m \u001b[49m\u001b[43mby\u001b[49m\u001b[43m,\u001b[49m\u001b[43m \u001b[49m\u001b[38;5;124;43m\"\u001b[39;49m\u001b[38;5;124;43mvalue\u001b[39;49m\u001b[38;5;124;43m\"\u001b[39;49m\u001b[43m:\u001b[49m\u001b[43m \u001b[49m\u001b[43mvalue\u001b[49m\u001b[43m}\u001b[49m\u001b[43m)\u001b[49m[\u001b[38;5;124m\"\u001b[39m\u001b[38;5;124mvalue\u001b[39m\u001b[38;5;124m\"\u001b[39m]\n",
      "File \u001b[1;32m~\\AppData\\Local\\Programs\\Python\\Python310\\lib\\site-packages\\selenium\\webdriver\\remote\\webdriver.py:347\u001b[0m, in \u001b[0;36mWebDriver.execute\u001b[1;34m(self, driver_command, params)\u001b[0m\n\u001b[0;32m    345\u001b[0m response \u001b[38;5;241m=\u001b[39m \u001b[38;5;28mself\u001b[39m\u001b[38;5;241m.\u001b[39mcommand_executor\u001b[38;5;241m.\u001b[39mexecute(driver_command, params)\n\u001b[0;32m    346\u001b[0m \u001b[38;5;28;01mif\u001b[39;00m response:\n\u001b[1;32m--> 347\u001b[0m     \u001b[38;5;28;43mself\u001b[39;49m\u001b[38;5;241;43m.\u001b[39;49m\u001b[43merror_handler\u001b[49m\u001b[38;5;241;43m.\u001b[39;49m\u001b[43mcheck_response\u001b[49m\u001b[43m(\u001b[49m\u001b[43mresponse\u001b[49m\u001b[43m)\u001b[49m\n\u001b[0;32m    348\u001b[0m     response[\u001b[38;5;124m\"\u001b[39m\u001b[38;5;124mvalue\u001b[39m\u001b[38;5;124m\"\u001b[39m] \u001b[38;5;241m=\u001b[39m \u001b[38;5;28mself\u001b[39m\u001b[38;5;241m.\u001b[39m_unwrap_value(response\u001b[38;5;241m.\u001b[39mget(\u001b[38;5;124m\"\u001b[39m\u001b[38;5;124mvalue\u001b[39m\u001b[38;5;124m\"\u001b[39m, \u001b[38;5;28;01mNone\u001b[39;00m))\n\u001b[0;32m    349\u001b[0m     \u001b[38;5;28;01mreturn\u001b[39;00m response\n",
      "File \u001b[1;32m~\\AppData\\Local\\Programs\\Python\\Python310\\lib\\site-packages\\selenium\\webdriver\\remote\\errorhandler.py:229\u001b[0m, in \u001b[0;36mErrorHandler.check_response\u001b[1;34m(self, response)\u001b[0m\n\u001b[0;32m    227\u001b[0m         alert_text \u001b[38;5;241m=\u001b[39m value[\u001b[38;5;124m\"\u001b[39m\u001b[38;5;124malert\u001b[39m\u001b[38;5;124m\"\u001b[39m]\u001b[38;5;241m.\u001b[39mget(\u001b[38;5;124m\"\u001b[39m\u001b[38;5;124mtext\u001b[39m\u001b[38;5;124m\"\u001b[39m)\n\u001b[0;32m    228\u001b[0m     \u001b[38;5;28;01mraise\u001b[39;00m exception_class(message, screen, stacktrace, alert_text)  \u001b[38;5;66;03m# type: ignore[call-arg]  # mypy is not smart enough here\u001b[39;00m\n\u001b[1;32m--> 229\u001b[0m \u001b[38;5;28;01mraise\u001b[39;00m exception_class(message, screen, stacktrace)\n",
      "\u001b[1;31mNoSuchElementException\u001b[0m: Message: no such element: Unable to locate element: {\"method\":\"css selector\",\"selector\":\".s-pagination-next\"}\n  (Session info: chrome=125.0.6422.77); For documentation on this error, please visit: https://www.selenium.dev/documentation/webdriver/troubleshooting/errors#no-such-element-exception\nStacktrace:\n\tGetHandleVerifier [0x00DFB793+45827]\n\t(No symbol) [0x00D8DB74]\n\t(No symbol) [0x00C8150F]\n\t(No symbol) [0x00CC20BC]\n\t(No symbol) [0x00CC216B]\n\t(No symbol) [0x00CFE0F2]\n\t(No symbol) [0x00CE2E44]\n\t(No symbol) [0x00CFC034]\n\t(No symbol) [0x00CE2B96]\n\t(No symbol) [0x00CB6998]\n\t(No symbol) [0x00CB751D]\n\tGetHandleVerifier [0x010B43C3+2899763]\n\tGetHandleVerifier [0x011077ED+3240797]\n\tGetHandleVerifier [0x00E81264+593364]\n\tGetHandleVerifier [0x00E8818C+621820]\n\t(No symbol) [0x00D96F54]\n\t(No symbol) [0x00D93658]\n\t(No symbol) [0x00D937F7]\n\t(No symbol) [0x00D858AE]\n\tBaseThreadInitThunk [0x75627BA9+25]\n\tRtlInitializeExceptionChain [0x773BBE3B+107]\n\tRtlClearBits [0x773BBDBF+191]\n"
     ]
    }
   ],
   "source": [
    "import pandas as pd\n",
    "\n",
    "wd.get(\"https://www.amazon.com/s?k=rtx+3080+ti&i=computers&bbn=284822&rh=n%3A284822%2Cp_n_feature_twenty-one_browse-bin%3A21563385011%2Cp_n_feature_twenty_browse-bin%3A23572110011&dc&qid=1630186292&rnid=2661599011&ref=sr_nr_p_n_availability_2\")\n",
    "\n",
    "nextPageCssClasses=[]\n",
    "nextPageLink = wd.find_element(By.CLASS_NAME, \"s-pagination-next\")\n",
    "\n",
    "\n",
    "df_all_search_results = pd.DataFrame(columns=[\"Title\", \"Sponsored\", \"Price\"])\n",
    "while not \"s-pagination-disabled\" in nextPageCssClasses:\n",
    "    soup = BeautifulSoup(wd.page_source)\n",
    "    searchResultsPage = soup.findAll(\"div\", {\"data-component-type\": \"s-search-result\"})\n",
    "    df = getPandaDfForSearchResults(searchResultsPage)\n",
    "    df_all_search_results = pd.concat([df_all_search_results, df])\n",
    "                              \n",
    "    # go to next page\n",
    "    nextPageLink.click()\n",
    "    nextPageLink = wd.find_element(By.CLASS_NAME, \"s-pagination-next\")\n",
    "    nextPageCssClasses = nextPageLink.get_attribute(\"class\").split()\n",
    "    time.sleep(2)\n",
    "\n",
    "if \"s-pagination-disabled\" in nextPageCssClasses:\n",
    "    print(\"Reached last page of search results\")\n",
    "\n",
    "df_all_search_results    \n",
    "                            "
   ]
  },
  {
   "cell_type": "code",
   "execution_count": null,
   "id": "afa35449-d7f2-4424-9883-e876c7d893a0",
   "metadata": {},
   "outputs": [],
   "source": [
    "def getSearchResultsForPage(url):\n",
    "    wd.get(url)\n",
    "    nextPageCssClasses=[]\n",
    "    nextPageLink = wd.find_element(By.CLASS_NAME, \"s-pagination-next\")\n",
    "\n",
    "\n",
    "    df_all_search_results = pd.DataFrame(columns=[\"Title\", \"Sponsored\", \"Price\"])\n",
    "    while not \"s-pagination-disabled\" in nextPageCssClasses:\n",
    "        soup = BeautifulSoup(wd.page_source)\n",
    "        searchResultsPage = soup.findAll(\"div\", {\"data-component-type\": \"s-search-result\"})\n",
    "        df = getPandaDfForSearchResults(searchResultsPage)\n",
    "        df_all_search_results = pd.concat([df_all_search_results, df])\n",
    "\n",
    "        # go to next page\n",
    "        nextPageLink.click()\n",
    "        nextPageLink = wd.find_element(By.CLASS_NAME, \"s-pagination-next\")\n",
    "        nextPageCssClasses = nextPageLink.get_attribute(\"class\").split()\n",
    "        time.sleep(2)\n",
    "\n",
    "    if \"s-pagination-disabled\" in nextPageCssClasses:\n",
    "        print(\"Reached last page of search results\")\n",
    "\n",
    "    df_all_search_results['Price'] = df_all_search_results['Price'].str.replace(\",\",\"\")\n",
    "    df_all_search_results['Price'] = df_all_search_results['Price'].astype(float)\n",
    "    return df_all_search_results    \n",
    "                            "
   ]
  },
  {
   "cell_type": "code",
   "execution_count": null,
   "id": "bb74fe43-64f4-4119-af12-56d57b039fb2",
   "metadata": {},
   "outputs": [],
   "source": [
    "# getSearchResultsForPage(\"https://www.amazon.com/s?k=rtx+3080+ti&i=computers&bbn=284822&rh=n%3A284822%2Cp_n_feature_twenty-one_browse-bin%3A21563385011%2Cp_n_feature_twenty_browse-bin%3A23572110011&dc&qid=1630186292&rnid=2661599011&ref=sr_nr_p_n_availability_2\")"
   ]
  },
  {
   "cell_type": "code",
   "execution_count": null,
   "id": "4a1be5e1-6eca-42d9-9d24-b14f180262cd",
   "metadata": {},
   "outputs": [],
   "source": [
    "import pywhatkit as kit\n",
    "def sendWhatsAppMessage(df):\n",
    "    for index, graphicsCardRow in df.iterrows():\n",
    "        print(graphicsCardRow.URL)\n",
    "        wd.get(graphicsCardRow.URL)\n",
    "        screenshotFilepath=\"C:\\\\Users\\\\gabri\\\\Downloads\\\\screenshot_{index}.png\"\n",
    "        wd.save_screenshot(screenshotFilepath)\n",
    "        kit.sendwhats_image(my_phone_number, screenshotFilepath, graphicsCardRow.URL, tab_close=True)\n"
   ]
  },
  {
   "cell_type": "code",
   "execution_count": null,
   "id": "e542c71f-bc55-4578-9d9d-232ac06d46f2",
   "metadata": {
    "scrolled": false
   },
   "outputs": [],
   "source": [
    "while (True):\n",
    "    df = getSearchResultsForPage(\"https://www.amazon.com/s?k=rtx+3080+ti&i=computers&bbn=284822&rh=n%3A284822%2Cp_n_feature_twenty-one_browse-bin%3A21563385011%2Cp_n_feature_twenty_browse-bin%3A23572110011&dc&qid=1630186292&rnid=2661599011&ref=sr_nr_p_n_availability_2\")\n",
    "    \n",
    "    df_query = df[(df.Title.str.contains(\"3080 Ti\")) & (df.Price <= 2200)]\n",
    "    \n",
    "    if (not df_query.empty):\n",
    "        print(\"Found products that I want to buy\")\n",
    "        sendWhatsAppMessage(df_query)\n",
    "        print(df_query)\n",
    "        break\n",
    "    else:\n",
    "        time.sleep(60)\n",
    "    "
   ]
  },
  {
   "cell_type": "markdown",
   "id": "60941c98",
   "metadata": {},
   "source": [
    "### Análise de Dados"
   ]
  },
  {
   "cell_type": "code",
   "execution_count": null,
   "id": "9d09df67-a035-4e75-9da3-66855caa903c",
   "metadata": {},
   "outputs": [],
   "source": []
  },
  {
   "cell_type": "markdown",
   "id": "ee418c8a",
   "metadata": {},
   "source": [
    "---"
   ]
  }
 ],
 "metadata": {
  "kernelspec": {
   "display_name": "Python 3 (ipykernel)",
   "language": "python",
   "name": "python3"
  },
  "language_info": {
   "codemirror_mode": {
    "name": "ipython",
    "version": 3
   },
   "file_extension": ".py",
   "mimetype": "text/x-python",
   "name": "python",
   "nbconvert_exporter": "python",
   "pygments_lexer": "ipython3",
   "version": "3.10.11"
  }
 },
 "nbformat": 4,
 "nbformat_minor": 5
}
